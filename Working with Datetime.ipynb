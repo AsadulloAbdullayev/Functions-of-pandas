{
 "cells": [
  {
   "metadata": {},
   "cell_type": "markdown",
   "source": [
    "# 10. Working with Datetime\n",
    "- `df['date'].dt.year, df['date'].dt.month, df['date'].dt.day, Series.dt.hour, Series.dt.minute`: Extract year, month, or day from date.\n",
    "- `df['date'].dt.weekday`: Get the day of the week.\n",
    "- `df['date'].dt.is_month_end`: Check if it's the end of the month.\n",
    "- `df['date'].dt.is_leap_year`: Check if it's a leap year.\n"
   ],
   "id": "4cb326f95be829da"
  },
  {
   "cell_type": "code",
   "id": "initial_id",
   "metadata": {
    "collapsed": true,
    "ExecuteTime": {
     "end_time": "2024-11-16T04:18:51.806703Z",
     "start_time": "2024-11-16T04:18:51.197434Z"
    }
   },
   "source": [
    "import pandas as pd\n",
    "import numpy as np\n",
    "\n",
    "# Set a random seed for reproducibility\n",
    "np.random.seed(42)\n",
    "\n",
    "# Generate a date range of 20 consecutive days\n",
    "dates = pd.date_range(start='2023-01-01', periods=20)\n",
    "\n",
    "# Generate random data for the other columns\n",
    "temperature = np.random.uniform(low=-10, high=35, size=20)  # Temperature range from -10 to 35\n",
    "humidity = np.random.uniform(low=20, high=100, size=20)  # Humidity percentage range from 20% to 100%\n",
    "weather_conditions = ['Sunny', 'Rainy', 'Cloudy', 'Snowy']\n",
    "weather = np.random.choice(weather_conditions, size=20)  # Randomly select weather condition\n",
    "wind_speed = np.random.uniform(low=0, high=50, size=20)  # Wind speed range from 0 to 50 km/h\n",
    "\n",
    "# Create the DataFrame\n",
    "df = pd.DataFrame({\n",
    "    'date': dates,\n",
    "    'temperature': temperature,\n",
    "    'humidity': humidity,\n",
    "    'weather': weather,\n",
    "    'wind_speed': wind_speed\n",
    "})\n",
    "\n",
    "print(df)\n"
   ],
   "outputs": [
    {
     "name": "stdout",
     "output_type": "stream",
     "text": [
      "         date  temperature   humidity weather  wind_speed\n",
      "0  2023-01-01     6.854305  68.948232  Cloudy   48.479231\n",
      "1  2023-01-02    32.782144  31.159509   Snowy   38.756641\n",
      "2  2023-01-03    22.939727  43.371572   Sunny   46.974947\n",
      "3  2023-01-04    16.939632  49.308947   Snowy   44.741368\n",
      "4  2023-01-05    -2.979161  56.485599  Cloudy   29.894999\n",
      "5  2023-01-06    -2.980247  82.814077  Cloudy   46.093712\n",
      "6  2023-01-07    -7.386237  35.973903   Rainy    4.424625\n",
      "7  2023-01-08    28.977927  61.138755   Sunny    9.799143\n",
      "8  2023-01-09    17.050176  67.393166   Snowy    2.261364\n",
      "9  2023-01-10    21.863266  23.716033   Rainy   16.266517\n",
      "10 2023-01-11    -9.073698  68.603588   Snowy   19.433864\n",
      "11 2023-01-12    33.645943  33.641930   Snowy   13.567452\n",
      "12 2023-01-13    27.459919  25.204127   Rainy   41.436875\n",
      "13 2023-01-14    -0.444740  95.910843   Rainy   17.837666\n",
      "14 2023-01-15    -1.817876  97.250563   Rainy   14.046725\n",
      "15 2023-01-16    -1.746797  84.671788   Rainy   27.134804\n",
      "16 2023-01-17     3.690901  44.369102   Rainy    7.046211\n",
      "17 2023-01-18    13.614039  27.813769   Snowy   40.109849\n",
      "18 2023-01-19     9.437526  74.738642   Rainy    3.727532\n",
      "19 2023-01-20     3.105311  55.212199   Sunny   49.344347\n"
     ]
    }
   ],
   "execution_count": 1
  },
  {
   "metadata": {},
   "cell_type": "markdown",
   "source": [
    "# pandas.Series.dt.year\n",
    "- `Series.dt.year[source] `\n",
    "- ### The year of the datetime."
   ],
   "id": "ba47efb71f3bcffb"
  },
  {
   "metadata": {
    "ExecuteTime": {
     "end_time": "2024-11-16T04:21:04.249051Z",
     "start_time": "2024-11-16T04:21:04.224020Z"
    }
   },
   "cell_type": "code",
   "source": "df['date'].dt.year",
   "id": "c3f40a908b06136a",
   "outputs": [
    {
     "data": {
      "text/plain": [
       "0     2023\n",
       "1     2023\n",
       "2     2023\n",
       "3     2023\n",
       "4     2023\n",
       "5     2023\n",
       "6     2023\n",
       "7     2023\n",
       "8     2023\n",
       "9     2023\n",
       "10    2023\n",
       "11    2023\n",
       "12    2023\n",
       "13    2023\n",
       "14    2023\n",
       "15    2023\n",
       "16    2023\n",
       "17    2023\n",
       "18    2023\n",
       "19    2023\n",
       "Name: date, dtype: int32"
      ]
     },
     "execution_count": 2,
     "metadata": {},
     "output_type": "execute_result"
    }
   ],
   "execution_count": 2
  },
  {
   "metadata": {},
   "cell_type": "markdown",
   "source": [
    "# pandas.Series.dt.month\n",
    "- ### `Series.dt.month[source]`\n",
    "- ### The month as January=1, December=12."
   ],
   "id": "6ee831944fbdf247"
  },
  {
   "metadata": {
    "ExecuteTime": {
     "end_time": "2024-11-16T04:22:50.941863Z",
     "start_time": "2024-11-16T04:22:50.923106Z"
    }
   },
   "cell_type": "code",
   "source": "df['date'].dt.month",
   "id": "f7dd361c9fb1103b",
   "outputs": [
    {
     "data": {
      "text/plain": [
       "0     1\n",
       "1     1\n",
       "2     1\n",
       "3     1\n",
       "4     1\n",
       "5     1\n",
       "6     1\n",
       "7     1\n",
       "8     1\n",
       "9     1\n",
       "10    1\n",
       "11    1\n",
       "12    1\n",
       "13    1\n",
       "14    1\n",
       "15    1\n",
       "16    1\n",
       "17    1\n",
       "18    1\n",
       "19    1\n",
       "Name: date, dtype: int32"
      ]
     },
     "execution_count": 3,
     "metadata": {},
     "output_type": "execute_result"
    }
   ],
   "execution_count": 3
  },
  {
   "metadata": {},
   "cell_type": "markdown",
   "source": [
    "# pandas.Series.dt.day\n",
    "- #### `Series.dt.day[source]`\n",
    "- #### The day of the datetime."
   ],
   "id": "67bbc0ceb020d315"
  },
  {
   "metadata": {
    "ExecuteTime": {
     "end_time": "2024-11-16T04:24:24.113473Z",
     "start_time": "2024-11-16T04:24:24.091526Z"
    }
   },
   "cell_type": "code",
   "source": "df['date'].dt.day",
   "id": "e7155b69befd777c",
   "outputs": [
    {
     "data": {
      "text/plain": [
       "0      1\n",
       "1      2\n",
       "2      3\n",
       "3      4\n",
       "4      5\n",
       "5      6\n",
       "6      7\n",
       "7      8\n",
       "8      9\n",
       "9     10\n",
       "10    11\n",
       "11    12\n",
       "12    13\n",
       "13    14\n",
       "14    15\n",
       "15    16\n",
       "16    17\n",
       "17    18\n",
       "18    19\n",
       "19    20\n",
       "Name: date, dtype: int32"
      ]
     },
     "execution_count": 6,
     "metadata": {},
     "output_type": "execute_result"
    }
   ],
   "execution_count": 6
  },
  {
   "metadata": {},
   "cell_type": "markdown",
   "source": [
    "# pandas.Series.dt.hour\n",
    "- #### `Series.dt.hour`\n",
    "- #### The hours of the datetime."
   ],
   "id": "438808c49791fabc"
  },
  {
   "metadata": {
    "ExecuteTime": {
     "end_time": "2024-11-16T04:25:50.115950Z",
     "start_time": "2024-11-16T04:25:50.098969Z"
    }
   },
   "cell_type": "code",
   "source": "df['date'].dt.hour",
   "id": "6049ca69fc818376",
   "outputs": [
    {
     "data": {
      "text/plain": [
       "0     0\n",
       "1     0\n",
       "2     0\n",
       "3     0\n",
       "4     0\n",
       "5     0\n",
       "6     0\n",
       "7     0\n",
       "8     0\n",
       "9     0\n",
       "10    0\n",
       "11    0\n",
       "12    0\n",
       "13    0\n",
       "14    0\n",
       "15    0\n",
       "16    0\n",
       "17    0\n",
       "18    0\n",
       "19    0\n",
       "Name: date, dtype: int32"
      ]
     },
     "execution_count": 7,
     "metadata": {},
     "output_type": "execute_result"
    }
   ],
   "execution_count": 7
  },
  {
   "metadata": {},
   "cell_type": "markdown",
   "source": [
    "# pandas.Series.dt.minute\n",
    "- #### `Series.dt.minute`\n",
    "- #### The minute of the datetime."
   ],
   "id": "e135137f89da6114"
  },
  {
   "metadata": {
    "ExecuteTime": {
     "end_time": "2024-11-16T04:27:40.896193Z",
     "start_time": "2024-11-16T04:27:40.875819Z"
    }
   },
   "cell_type": "code",
   "source": "df['date'].dt.minute",
   "id": "2763406678b69def",
   "outputs": [
    {
     "data": {
      "text/plain": [
       "0     0\n",
       "1     0\n",
       "2     0\n",
       "3     0\n",
       "4     0\n",
       "5     0\n",
       "6     0\n",
       "7     0\n",
       "8     0\n",
       "9     0\n",
       "10    0\n",
       "11    0\n",
       "12    0\n",
       "13    0\n",
       "14    0\n",
       "15    0\n",
       "16    0\n",
       "17    0\n",
       "18    0\n",
       "19    0\n",
       "Name: date, dtype: int32"
      ]
     },
     "execution_count": 8,
     "metadata": {},
     "output_type": "execute_result"
    }
   ],
   "execution_count": 8
  },
  {
   "metadata": {},
   "cell_type": "markdown",
   "source": [
    "- # pandas.Series.dt.weekday\n",
    "- `Series.dt.weekday`\n",
    "#### The day of the week with Monday=0, Sunday=6.\n",
    "\n",
    "Return the day of the week. It is assumed the week starts on Monday, which is denoted by 0 and ends on Sunday which is denoted by 6. This method is available on both Series with datetime values (using the dt accessor) or DatetimeIndex.\n",
    "\n",
    "Returns\n",
    ":\n",
    "Series or Index\n",
    "Containing integers indicating the day number."
   ],
   "id": "24f43ac258efc497"
  },
  {
   "metadata": {
    "ExecuteTime": {
     "end_time": "2024-11-16T04:32:16.969540Z",
     "start_time": "2024-11-16T04:32:16.955857Z"
    }
   },
   "cell_type": "code",
   "source": "df['date'].dt.weekday+1",
   "id": "dec61a7d61e76b55",
   "outputs": [
    {
     "data": {
      "text/plain": [
       "0     7\n",
       "1     1\n",
       "2     2\n",
       "3     3\n",
       "4     4\n",
       "5     5\n",
       "6     6\n",
       "7     7\n",
       "8     1\n",
       "9     2\n",
       "10    3\n",
       "11    4\n",
       "12    5\n",
       "13    6\n",
       "14    7\n",
       "15    1\n",
       "16    2\n",
       "17    3\n",
       "18    4\n",
       "19    5\n",
       "Name: date, dtype: int32"
      ]
     },
     "execution_count": 12,
     "metadata": {},
     "output_type": "execute_result"
    }
   ],
   "execution_count": 12
  },
  {
   "metadata": {},
   "cell_type": "markdown",
   "source": [
    "# `Series.dt` Properties and Methods\n",
    "\n",
    "## 1. `Series.dt.year`\n",
    "- **Description**: Returns the year of the datetime object.\n",
    "- **Usage**: `series.dt.year`\n",
    "- **Example**:\n",
    "  ```python\n",
    "  df['year'] = df['date'].dt.year\n",
    "  ```\n",
    "\n",
    "## 2. `Series.dt.month`\n",
    "- **Description**: Returns the month of the datetime object.\n",
    "- **Usage**: `series.dt.month`\n",
    "- **Example**:\n",
    "  ```python\n",
    "  df['month'] = df['date'].dt.month\n",
    "  ```\n",
    "\n",
    "## 3. `Series.dt.day`\n",
    "- **Description**: Returns the day of the datetime object.\n",
    "- **Usage**: `series.dt.day`\n",
    "- **Example**:\n",
    "  ```python\n",
    "  df['day'] = df['date'].dt.day\n",
    "  ```\n",
    "\n",
    "## 4. `Series.dt.hour`\n",
    "- **Description**: Returns the hour of the datetime object.\n",
    "- **Usage**: `series.dt.hour`\n",
    "- **Example**:\n",
    "  ```python\n",
    "  df['hour'] = df['date'].dt.hour\n",
    "  ```\n",
    "\n",
    "## 5. `Series.dt.minute`\n",
    "- **Description**: Returns the minute of the datetime object.\n",
    "- **Usage**: `series.dt.minute`\n",
    "- **Example**:\n",
    "  ```python\n",
    "  df['minute'] = df['date'].dt.minute\n",
    "  ```\n",
    "\n",
    "## 6. `Series.dt.second`\n",
    "- **Description**: Returns the second of the datetime object.\n",
    "- **Usage**: `series.dt.second`\n",
    "- **Example**:\n",
    "  ```python\n",
    "  df['second'] = df['date'].dt.second\n",
    "  ```\n",
    "\n",
    "## 7. `Series.dt.microsecond`\n",
    "- **Description**: Returns the microsecond of the datetime object.\n",
    "- **Usage**: `series.dt.microsecond`\n",
    "- **Example**:\n",
    "  ```python\n",
    "  df['microsecond'] = df['date'].dt.microsecond\n",
    "  ```\n",
    "\n",
    "## 8. `Series.dt.nanosecond`\n",
    "- **Description**: Returns the nanosecond of the datetime object.\n",
    "- **Usage**: `series.dt.nanosecond`\n",
    "- **Example**:\n",
    "  ```python\n",
    "  df['nanosecond'] = df['date'].dt.nanosecond\n",
    "  ```\n",
    "\n",
    "## 9. `Series.dt.date`\n",
    "- **Description**: Returns the date part of the datetime object.\n",
    "- **Usage**: `series.dt.date`\n",
    "- **Example**:\n",
    "  ```python\n",
    "  df['only_date'] = df['date'].dt.date\n",
    "  ```\n",
    "\n",
    "## 10. `Series.dt.time`\n",
    "- **Description**: Returns the time part of the datetime object.\n",
    "- **Usage**: `series.dt.time`\n",
    "- **Example**:\n",
    "  ```python\n",
    "  df['only_time'] = df['date'].dt.time\n",
    "  ```\n",
    "\n",
    "## 11. `Series.dt.dayofyear`\n",
    "- **Description**: Returns the ordinal day of the year.\n",
    "- **Usage**: `series.dt.dayofyear`\n",
    "- **Example**:\n",
    "  ```python\n",
    "  df['dayofyear'] = df['date'].dt.dayofyear\n",
    "  ```\n",
    "\n",
    "## 12. `Series.dt.week`\n",
    "- **Description**: (deprecated, use `Series.dt.isocalendar().week` instead) Returns the week number of the year.\n",
    "- **Usage**: `series.dt.week`\n",
    "- **Example**:\n",
    "  ```python\n",
    "  df['week'] = df['date'].dt.isocalendar().week\n",
    "  ```\n",
    "\n",
    "## 13. `Series.dt.weekday`\n",
    "- **Description**: Returns the day of the week with Monday=0, Sunday=6.\n",
    "- **Usage**: `series.dt.weekday`\n",
    "- **Example**:\n",
    "  ```python\n",
    "  df['weekday'] = df['date'].dt.weekday\n",
    "  ```\n",
    "\n",
    "## 14. `Series.dt.dayofweek`\n",
    "- **Description**: Returns the day of the week with Monday=0, Sunday=6.\n",
    "- **Usage**: `series.dt.dayofweek`\n",
    "- **Example**:\n",
    "  ```python\n",
    "  df['dayofweek'] = df['date'].dt.dayofweek\n",
    "  ```\n",
    "\n",
    "## 15. `Series.dt.day_name`\n",
    "- **Description**: Returns the name of the day in a week (Monday, Tuesday, etc).\n",
    "- **Usage**: `series.dt.day_name()`\n",
    "- **Example**:\n",
    "  ```python\n",
    "  df['day_name'] = df['date'].dt.day_name()\n",
    "  ```\n",
    "\n",
    "## 16. `Series.dt.month_name`\n",
    "- **Description**: Returns the name of the month.\n",
    "- **Usage**: `series.dt.month_name()`\n",
    "- **Example**:\n",
    "  ```python\n",
    "  df['month_name'] = df['date'].dt.month_name()\n",
    "  ```\n",
    "\n",
    "## 17. `Series.dt.is_month_start`\n",
    "- **Description**: Returns True if date is the first day of the month.\n",
    "- **Usage**: `series.dt.is_month_start`\n",
    "- **Example**:\n",
    "  ```python\n",
    "  df['is_month_start'] = df['date'].dt.is_month_start\n",
    "  ```\n",
    "\n",
    "## 18. `Series.dt.is_month_end`\n",
    "- **Description**: Returns True if date is the last day of the month.\n",
    "- **Usage**: `series.dt.is_month_end`\n",
    "- **Example**:\n",
    "  ```python\n",
    "  df['is_month_end'] = df['date'].dt.is_month_end\n",
    "  ```\n",
    "\n",
    "## 19. `Series.dt.is_quarter_start`\n",
    "- **Description**: Returns True if date is the first day of the quarter.\n",
    "- **Usage**: `series.dt.is_quarter_start`\n",
    "- **Example**:\n",
    "  ```python\n",
    "  df['is_quarter_start'] = df['date'].dt.is_quarter_start\n",
    "  ```\n",
    "\n",
    "## 20. `Series.dt.is_quarter_end`\n",
    "- **Description**: Returns True if date is the last day of the quarter.\n",
    "- **Usage**: `series.dt.is_quarter_end`\n",
    "- **Example**:\n",
    "  ```python\n",
    "  df['is_quarter_end'] = df['date'].dt.is_quarter_end\n",
    "  ```\n",
    "\n",
    "## 21. `Series.dt.is_year_start`\n",
    "- **Description**: Returns True if date is the first day of the year.\n",
    "- **Usage**: `series.dt.is_year_start`\n",
    "- **Example**:\n",
    "  ```python\n",
    "  df['is_year_start'] = df['date'].dt.is_year_start\n",
    "  ```\n",
    "\n",
    "## 22. `Series.dt.is_year_end`\n",
    "- **Description**: Returns True if date is the last day of the year.\n",
    "- **Usage**: `series.dt.is_year_end`\n",
    "- **Example**:\n",
    "  ```python\n",
    "  df['is_year_end'] = df['date'].dt.is_year_end\n",
    "  ```\n",
    "\n",
    "## 23. `Series.dt.quarter`\n",
    "- **Description**: Returns the quarter of the date.\n",
    "- **Usage**: `series.dt.quarter`\n",
    "- **Example**:\n",
    "  ```python\n",
    "  df['quarter'] = df['date'].dt.quarter\n",
    "  ```\n",
    "\n",
    "## 24. `Series.dt.is_leap_year`\n",
    "- **Description**: Returns True if the year is a leap year.\n",
    "- **Usage**: `series.dt.is_leap_year`\n",
    "- **Example**:\n",
    "  ```python\n",
    "  df['is_leap_year'] = df['date'].dt.is_leap_year\n",
    "  ```\n",
    "\n",
    "## 25. `Series.dt.daysinmonth` or `Series.dt.days_in_month`\n",
    "- **Description**: Returns the number of days in the month of the datetime.\n",
    "- **Usage**: `series.dt.daysinmonth` or `series.dt.days_in_month`\n",
    "- **Example**:\n",
    "  ```python\n",
    "  df['days_in_month'] = df['date'].dt.daysinmonth\n",
    "  ```\n",
    "\n",
    "# Example Usage in a DataFrame\n",
    "\n",
    "Here's an example demonstrating some of these attributes and methods:\n",
    "\n",
    "```python\n",
    "import pandas as pd\n",
    "import numpy as np\n",
    "\n",
    "# Sample data\n",
    "np.random.seed(42)\n",
    "dates = pd.date_range(start='2023-01-01', periods=20, freq='D')\n",
    "data = np.random.randn(20)\n",
    "\n",
    "# Create DataFrame\n",
    "df = pd.DataFrame({\n",
    "    'date': dates,\n",
    "    'value': data\n",
    "})\n",
    "\n",
    "# Accessing some datetime properties\n",
    "df['year'] = df['date'].dt.year\n",
    "df['month'] = df['date'].dt.month\n",
    "df['day'] = df['date'].dt.day\n",
    "df['day_name'] = df['date'].dt.day_name()\n",
    "df['is_month_start'] = df['date'].dt.is_month_start\n",
    "df['quarter'] = df['date'].dt.quarter\n",
    "\n",
    "print(df)\n",
    "```\n",
    "\n",
    "This will result in a DataFrame with additional columns that store the extracted datetime properties."
   ],
   "id": "4cbdfda5260af4d2"
  },
  {
   "metadata": {},
   "cell_type": "code",
   "outputs": [],
   "execution_count": null,
   "source": "",
   "id": "900426998e66834d"
  }
 ],
 "metadata": {
  "kernelspec": {
   "display_name": "Python 3",
   "language": "python",
   "name": "python3"
  },
  "language_info": {
   "codemirror_mode": {
    "name": "ipython",
    "version": 2
   },
   "file_extension": ".py",
   "mimetype": "text/x-python",
   "name": "python",
   "nbconvert_exporter": "python",
   "pygments_lexer": "ipython2",
   "version": "2.7.6"
  }
 },
 "nbformat": 4,
 "nbformat_minor": 5
}
