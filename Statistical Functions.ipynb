{
 "cells": [
  {
   "metadata": {},
   "cell_type": "markdown",
   "source": [
    "# 7. Statistical Functions\n",
    "- `df.mean()`: Calculate the mean value.\n",
    "- `df.median()`: Calculate the median value.\n",
    "- `df.mode()`: Calculate the mode value.\n",
    "- `df.min(), df.max()`: Get the minimum and maximum values.\n",
    "- `df.std(), df.var()`: Standard deviation and variance.\n",
    "- `df.corr()`: Calculate correlation coefficient.\n",
    "- `df.cov()`: Calculate covariance."
   ],
   "id": "f9542a39be1b292d"
  },
  {
   "cell_type": "code",
   "id": "initial_id",
   "metadata": {
    "collapsed": true,
    "ExecuteTime": {
     "end_time": "2024-11-22T08:50:22.278928Z",
     "start_time": "2024-11-22T08:50:20.557243Z"
    }
   },
   "source": [
    "import pandas as pd\n",
    "import numpy as np\n",
    "from datashader.datashape import object_, numeric\n"
   ],
   "outputs": [],
   "execution_count": 1
  },
  {
   "metadata": {},
   "cell_type": "markdown",
   "source": [
    "## pandas.DataFrame.mean\n",
    "\n",
    "```python\n",
    "DataFrame.mean(axis=0, skipna=True, numeric_only=False, **kwargs)\n",
    "```\n",
    "\n",
    "Return the mean of the values over the requested axis.\n",
    "\n",
    "### Parameters:\n",
    "\n",
    "- **axis** {index (0), columns (1)}  \n",
    "  Axis for the function to be applied on. For Series this parameter is unused and defaults to 0.  \n",
    "  For DataFrames, specifying `axis=None` will apply the aggregation across both axes.  \n",
    "  _Added in version 2.0.0._\n",
    "\n",
    "- **skipna** `bool`, default `True`  \n",
    "  Exclude NA/null values when computing the result.\n",
    "\n",
    "- **numeric_only** `bool`, default `False`  \n",
    "  Include only float, int, boolean columns. Not implemented for Series.\n",
    "\n",
    "- **kwargs**  \n",
    "  Additional keyword arguments to be passed to the function."
   ],
   "id": "c095027b2579eb67"
  },
  {
   "metadata": {
    "ExecuteTime": {
     "end_time": "2024-11-22T08:50:22.296084Z",
     "start_time": "2024-11-22T08:50:22.280832Z"
    }
   },
   "cell_type": "code",
   "source": [
    "np.random.seed(42)\n",
    "\n",
    "columns = ['EmployeeID', 'Name', 'Age', 'Department', 'YearsExperience', 'Salary']\n",
    "\n",
    "data = {\n",
    "    'EmployeeID': np.arange(1, 21),\n",
    "    'Name': [f'Employee_{i}' for i in range(1, 21)],\n",
    "    'Age': np.random.randint(20, 60, size=20),\n",
    "    'Department': np.random.choice(['HR', 'Engineering', 'Marketing', 'Sales'], size=20),\n",
    "    'YearsExperience': np.random.randint(1, 20, size=20),\n",
    "    'Salary': np.random.randint(40000, 120000, size=20)\n",
    "}\n",
    "\n",
    "df = pd.DataFrame(data, columns=columns)\n",
    "\n",
    "print(df)\n"
   ],
   "id": "9e0f3a8e36a81517",
   "outputs": [
    {
     "name": "stdout",
     "output_type": "stream",
     "text": [
      "    EmployeeID         Name  Age   Department  YearsExperience  Salary\n",
      "0            1   Employee_1   58  Engineering               15   75920\n",
      "1            2   Employee_2   48        Sales               15  107121\n",
      "2            3   Employee_3   34        Sales               19  109479\n",
      "3            4   Employee_4   27           HR               12   59457\n",
      "4            5   Employee_5   40           HR                3  106557\n",
      "5            6   Employee_6   58        Sales                5  117189\n",
      "6            7   Employee_7   38  Engineering               19  118953\n",
      "7            8   Employee_8   42  Engineering                7   92995\n",
      "8            9   Employee_9   30           HR                9   80757\n",
      "9           10  Employee_10   30        Sales                7   49692\n",
      "10          11  Employee_11   43           HR               18   85758\n",
      "11          12  Employee_12   55           HR                4  112409\n",
      "12          13  Employee_13   59    Marketing               14  111211\n",
      "13          14  Employee_14   43    Marketing               18  105697\n",
      "14          15  Employee_15   22    Marketing                9   77065\n",
      "15          16  Employee_16   41  Engineering                2   72606\n",
      "16          17  Employee_17   21        Sales               15   51534\n",
      "17          18  Employee_18   43        Sales                7   80397\n",
      "18          19  Employee_19   49        Sales               12   41016\n",
      "19          20  Employee_20   57        Sales                8   95591\n"
     ]
    }
   ],
   "execution_count": 2
  },
  {
   "metadata": {
    "ExecuteTime": {
     "end_time": "2024-11-22T08:50:22.361418Z",
     "start_time": "2024-11-22T08:50:22.355563Z"
    }
   },
   "cell_type": "code",
   "source": [
    "df.at[5,'Salary']=np.nan\n",
    "df.at[15,'Salary']=np.nan\n",
    "df.at[2,'Salary']=np.nan\n",
    "df.at[5,'YearsExperience']=np.nan\n",
    "df.at[9,'YearsExperience']=np.nan\n",
    "df.at[18,'YearsExperience']=np.nan"
   ],
   "id": "22eeb56fa758d7ac",
   "outputs": [],
   "execution_count": 3
  },
  {
   "metadata": {
    "ExecuteTime": {
     "end_time": "2024-11-22T08:50:22.374342Z",
     "start_time": "2024-11-22T08:50:22.364134Z"
    }
   },
   "cell_type": "code",
   "source": "df.select_dtypes(include=np.number).mean(skipna=False)",
   "id": "c7466aaa8e072c37",
   "outputs": [
    {
     "data": {
      "text/plain": [
       "EmployeeID         10.5\n",
       "Age                41.9\n",
       "YearsExperience     NaN\n",
       "Salary              NaN\n",
       "dtype: float64"
      ]
     },
     "execution_count": 4,
     "metadata": {},
     "output_type": "execute_result"
    }
   ],
   "execution_count": 4
  },
  {
   "metadata": {
    "ExecuteTime": {
     "end_time": "2024-11-22T08:50:22.393693Z",
     "start_time": "2024-11-22T08:50:22.384851Z"
    }
   },
   "cell_type": "code",
   "source": "df.mean(skipna=True,numeric_only=True,axis=1)",
   "id": "7898349bd1c46d11",
   "outputs": [
    {
     "data": {
      "text/plain": [
       "0     18998.500000\n",
       "1     26796.500000\n",
       "2        18.666667\n",
       "3     14875.000000\n",
       "4     26651.250000\n",
       "5        32.000000\n",
       "6     29754.250000\n",
       "7     23263.000000\n",
       "8     20201.250000\n",
       "9     16577.333333\n",
       "10    21457.500000\n",
       "11    28120.000000\n",
       "12    27824.250000\n",
       "13    26443.000000\n",
       "14    19277.750000\n",
       "15       19.666667\n",
       "16    12896.750000\n",
       "17    20116.250000\n",
       "18    13694.666667\n",
       "19    23919.000000\n",
       "dtype: float64"
      ]
     },
     "execution_count": 5,
     "metadata": {},
     "output_type": "execute_result"
    }
   ],
   "execution_count": 5
  },
  {
   "metadata": {},
   "cell_type": "markdown",
   "source": [
    "## `pandas.DataFrame.median`\n",
    "\n",
    "`DataFrame.median(axis=0, skipna=True, numeric_only=False, **kwargs)`\n",
    "\n",
    "This function returns the median of the values over the requested axis in a DataFrame.\n",
    "\n",
    "### Parameters:\n",
    "\n",
    "- **axis**: `{index (0), columns (1)}`\n",
    "    - The axis to apply the function on.\n",
    "    - For Series, this parameter is unused and defaults to 0.\n",
    "    - For DataFrames, specifying `axis=None` will apply the aggregation across both axes.\n",
    "    - *Added in version 2.0.0.*\n",
    "\n",
    "- **skipna**: `bool, default True`\n",
    "    - Excludes NA/null values when computing the result.\n",
    "\n",
    "- **numeric_only**: `bool, default False`\n",
    "    - Includes only float, int, and boolean columns.\n",
    "    - Not implemented for Series.\n",
    "\n",
    "- **kwargs**: `Additional keyword arguments`\n",
    "    - Additional keyword arguments to pass to the function.\n"
   ],
   "id": "c83fa662920943aa"
  },
  {
   "metadata": {
    "ExecuteTime": {
     "end_time": "2024-11-22T08:50:22.486034Z",
     "start_time": "2024-11-22T08:50:22.480688Z"
    }
   },
   "cell_type": "code",
   "source": "df.median(numeric_only=True)",
   "id": "ae2a741496621ff0",
   "outputs": [
    {
     "data": {
      "text/plain": [
       "EmployeeID            10.5\n",
       "Age                   42.5\n",
       "YearsExperience       12.0\n",
       "Salary             85758.0\n",
       "dtype: float64"
      ]
     },
     "execution_count": 6,
     "metadata": {},
     "output_type": "execute_result"
    }
   ],
   "execution_count": 6
  },
  {
   "metadata": {},
   "cell_type": "markdown",
   "source": [
    "## `pandas.DataFrame.mode`\n",
    "\n",
    "`DataFrame.mode(axis=0, numeric_only=False, dropna=True)`\n",
    "\n",
    "This function calculates the mode(s) of each element along the specified axis in a DataFrame. The mode is the value that appears most frequently, and there may be multiple modes if values appear with the same frequency.\n",
    "\n",
    "### Parameters:\n",
    "\n",
    "- **axis**: `{0 or 'index', 1 or 'columns'}, default 0`\n",
    "    - Determines the axis to iterate over while searching for the mode:\n",
    "        - `0` or `'index'`: Calculates the mode of each column.\n",
    "        - `1` or `'columns'`: Calculates the mode of each row.\n",
    "\n",
    "- **numeric_only**: `bool, default False`\n",
    "    - If `True`, the function is applied only to numeric columns.\n",
    "\n",
    "- **dropna**: `bool, default True`\n",
    "    - If `True`, NaN/NaT values are not considered in the mode counts.\n",
    "\n",
    "### Returns:\n",
    "\n",
    "- **DataFrame**: Returns a DataFrame with the modes of each column or row."
   ],
   "id": "1888dee3bdf2b66c"
  },
  {
   "metadata": {
    "ExecuteTime": {
     "end_time": "2024-11-22T08:50:22.518935Z",
     "start_time": "2024-11-22T08:50:22.513554Z"
    }
   },
   "cell_type": "code",
   "source": "df['YearsExperience'].mode()",
   "id": "6e364d0f1fa86ff5",
   "outputs": [
    {
     "data": {
      "text/plain": [
       "0    15.0\n",
       "Name: YearsExperience, dtype: float64"
      ]
     },
     "execution_count": 7,
     "metadata": {},
     "output_type": "execute_result"
    }
   ],
   "execution_count": 7
  },
  {
   "metadata": {
    "ExecuteTime": {
     "end_time": "2024-11-22T08:50:22.633251Z",
     "start_time": "2024-11-22T08:50:22.617561Z"
    }
   },
   "cell_type": "code",
   "source": "df.mode(dropna=True,numeric_only=True)",
   "id": "ba5bc706631c82ce",
   "outputs": [
    {
     "data": {
      "text/plain": [
       "    EmployeeID   Age  YearsExperience    Salary\n",
       "0            1  43.0             15.0   41016.0\n",
       "1            2   NaN              NaN   49692.0\n",
       "2            3   NaN              NaN   51534.0\n",
       "3            4   NaN              NaN   59457.0\n",
       "4            5   NaN              NaN   75920.0\n",
       "5            6   NaN              NaN   77065.0\n",
       "6            7   NaN              NaN   80397.0\n",
       "7            8   NaN              NaN   80757.0\n",
       "8            9   NaN              NaN   85758.0\n",
       "9           10   NaN              NaN   92995.0\n",
       "10          11   NaN              NaN   95591.0\n",
       "11          12   NaN              NaN  105697.0\n",
       "12          13   NaN              NaN  106557.0\n",
       "13          14   NaN              NaN  107121.0\n",
       "14          15   NaN              NaN  111211.0\n",
       "15          16   NaN              NaN  112409.0\n",
       "16          17   NaN              NaN  118953.0\n",
       "17          18   NaN              NaN       NaN\n",
       "18          19   NaN              NaN       NaN\n",
       "19          20   NaN              NaN       NaN"
      ],
      "text/html": [
       "<div>\n",
       "<style scoped>\n",
       "    .dataframe tbody tr th:only-of-type {\n",
       "        vertical-align: middle;\n",
       "    }\n",
       "\n",
       "    .dataframe tbody tr th {\n",
       "        vertical-align: top;\n",
       "    }\n",
       "\n",
       "    .dataframe thead th {\n",
       "        text-align: right;\n",
       "    }\n",
       "</style>\n",
       "<table border=\"1\" class=\"dataframe\">\n",
       "  <thead>\n",
       "    <tr style=\"text-align: right;\">\n",
       "      <th></th>\n",
       "      <th>EmployeeID</th>\n",
       "      <th>Age</th>\n",
       "      <th>YearsExperience</th>\n",
       "      <th>Salary</th>\n",
       "    </tr>\n",
       "  </thead>\n",
       "  <tbody>\n",
       "    <tr>\n",
       "      <th>0</th>\n",
       "      <td>1</td>\n",
       "      <td>43.0</td>\n",
       "      <td>15.0</td>\n",
       "      <td>41016.0</td>\n",
       "    </tr>\n",
       "    <tr>\n",
       "      <th>1</th>\n",
       "      <td>2</td>\n",
       "      <td>NaN</td>\n",
       "      <td>NaN</td>\n",
       "      <td>49692.0</td>\n",
       "    </tr>\n",
       "    <tr>\n",
       "      <th>2</th>\n",
       "      <td>3</td>\n",
       "      <td>NaN</td>\n",
       "      <td>NaN</td>\n",
       "      <td>51534.0</td>\n",
       "    </tr>\n",
       "    <tr>\n",
       "      <th>3</th>\n",
       "      <td>4</td>\n",
       "      <td>NaN</td>\n",
       "      <td>NaN</td>\n",
       "      <td>59457.0</td>\n",
       "    </tr>\n",
       "    <tr>\n",
       "      <th>4</th>\n",
       "      <td>5</td>\n",
       "      <td>NaN</td>\n",
       "      <td>NaN</td>\n",
       "      <td>75920.0</td>\n",
       "    </tr>\n",
       "    <tr>\n",
       "      <th>5</th>\n",
       "      <td>6</td>\n",
       "      <td>NaN</td>\n",
       "      <td>NaN</td>\n",
       "      <td>77065.0</td>\n",
       "    </tr>\n",
       "    <tr>\n",
       "      <th>6</th>\n",
       "      <td>7</td>\n",
       "      <td>NaN</td>\n",
       "      <td>NaN</td>\n",
       "      <td>80397.0</td>\n",
       "    </tr>\n",
       "    <tr>\n",
       "      <th>7</th>\n",
       "      <td>8</td>\n",
       "      <td>NaN</td>\n",
       "      <td>NaN</td>\n",
       "      <td>80757.0</td>\n",
       "    </tr>\n",
       "    <tr>\n",
       "      <th>8</th>\n",
       "      <td>9</td>\n",
       "      <td>NaN</td>\n",
       "      <td>NaN</td>\n",
       "      <td>85758.0</td>\n",
       "    </tr>\n",
       "    <tr>\n",
       "      <th>9</th>\n",
       "      <td>10</td>\n",
       "      <td>NaN</td>\n",
       "      <td>NaN</td>\n",
       "      <td>92995.0</td>\n",
       "    </tr>\n",
       "    <tr>\n",
       "      <th>10</th>\n",
       "      <td>11</td>\n",
       "      <td>NaN</td>\n",
       "      <td>NaN</td>\n",
       "      <td>95591.0</td>\n",
       "    </tr>\n",
       "    <tr>\n",
       "      <th>11</th>\n",
       "      <td>12</td>\n",
       "      <td>NaN</td>\n",
       "      <td>NaN</td>\n",
       "      <td>105697.0</td>\n",
       "    </tr>\n",
       "    <tr>\n",
       "      <th>12</th>\n",
       "      <td>13</td>\n",
       "      <td>NaN</td>\n",
       "      <td>NaN</td>\n",
       "      <td>106557.0</td>\n",
       "    </tr>\n",
       "    <tr>\n",
       "      <th>13</th>\n",
       "      <td>14</td>\n",
       "      <td>NaN</td>\n",
       "      <td>NaN</td>\n",
       "      <td>107121.0</td>\n",
       "    </tr>\n",
       "    <tr>\n",
       "      <th>14</th>\n",
       "      <td>15</td>\n",
       "      <td>NaN</td>\n",
       "      <td>NaN</td>\n",
       "      <td>111211.0</td>\n",
       "    </tr>\n",
       "    <tr>\n",
       "      <th>15</th>\n",
       "      <td>16</td>\n",
       "      <td>NaN</td>\n",
       "      <td>NaN</td>\n",
       "      <td>112409.0</td>\n",
       "    </tr>\n",
       "    <tr>\n",
       "      <th>16</th>\n",
       "      <td>17</td>\n",
       "      <td>NaN</td>\n",
       "      <td>NaN</td>\n",
       "      <td>118953.0</td>\n",
       "    </tr>\n",
       "    <tr>\n",
       "      <th>17</th>\n",
       "      <td>18</td>\n",
       "      <td>NaN</td>\n",
       "      <td>NaN</td>\n",
       "      <td>NaN</td>\n",
       "    </tr>\n",
       "    <tr>\n",
       "      <th>18</th>\n",
       "      <td>19</td>\n",
       "      <td>NaN</td>\n",
       "      <td>NaN</td>\n",
       "      <td>NaN</td>\n",
       "    </tr>\n",
       "    <tr>\n",
       "      <th>19</th>\n",
       "      <td>20</td>\n",
       "      <td>NaN</td>\n",
       "      <td>NaN</td>\n",
       "      <td>NaN</td>\n",
       "    </tr>\n",
       "  </tbody>\n",
       "</table>\n",
       "</div>"
      ]
     },
     "execution_count": 8,
     "metadata": {},
     "output_type": "execute_result"
    }
   ],
   "execution_count": 8
  },
  {
   "metadata": {},
   "cell_type": "markdown",
   "source": [
    "## `pandas.DataFrame.max`\n",
    "`DataFrame.max(axis=0, skipna=True, numeric_only=False, **kwargs)[source]`  \n",
    "Return the maximum of the values over the requested axis.\n",
    "\n",
    "If you want the index of the maximum, use `idxmax`. This is the equivalent of the `numpy.ndarray` method `argmax`.\n",
    "\n",
    "---\n",
    "\n",
    "## `pandas.DataFrame.min`\n",
    "`DataFrame.min(axis=0, skipna=True, numeric_only=False, **kwargs)[source]`  \n",
    "Return the minimum of the values over the requested axis.\n",
    "\n",
    "If you want the index of the minimum, use `idxmin`. This is the equivalent of the `numpy.ndarray` method `argmin`.\n",
    "\n",
    "### Parameters:\n",
    "- **axis** `{index (0), columns (1)}`  \n",
    "  Axis for the function to be applied on. For Series this parameter is unused and defaults to 0.\n",
    "\n",
    "  For DataFrames, specifying `axis=None` will apply the aggregation across both axes.\n",
    "\n",
    "  *Added in version 2.0.0.*\n",
    "\n",
    "- **skipna** `bool, default True`  \n",
    "  Exclude NA/null values when computing the result.\n",
    "\n",
    "- **numeric_only** `bool, default False`  \n",
    "  Include only float, int, boolean columns. Not implemented for Series.\n",
    "\n",
    "- **kwargs**  \n",
    "  Additional keyword arguments to be passed to the function.\n"
   ],
   "id": "74e60a9aea2ae545"
  },
  {
   "metadata": {
    "ExecuteTime": {
     "end_time": "2024-11-22T08:50:22.728176Z",
     "start_time": "2024-11-22T08:50:22.720580Z"
    }
   },
   "cell_type": "code",
   "source": "df.max(numeric_only=True)",
   "id": "d93a0986d82d27e4",
   "outputs": [
    {
     "data": {
      "text/plain": [
       "EmployeeID             20.0\n",
       "Age                    59.0\n",
       "YearsExperience        19.0\n",
       "Salary             118953.0\n",
       "dtype: float64"
      ]
     },
     "execution_count": 9,
     "metadata": {},
     "output_type": "execute_result"
    }
   ],
   "execution_count": 9
  },
  {
   "metadata": {
    "ExecuteTime": {
     "end_time": "2024-11-22T08:50:22.893171Z",
     "start_time": "2024-11-22T08:50:22.885364Z"
    }
   },
   "cell_type": "code",
   "source": "df.min()",
   "id": "ff69352e5cd85827",
   "outputs": [
    {
     "data": {
      "text/plain": [
       "EmployeeID                   1\n",
       "Name                Employee_1\n",
       "Age                         21\n",
       "Department         Engineering\n",
       "YearsExperience            2.0\n",
       "Salary                 41016.0\n",
       "dtype: object"
      ]
     },
     "execution_count": 10,
     "metadata": {},
     "output_type": "execute_result"
    }
   ],
   "execution_count": 10
  },
  {
   "metadata": {},
   "cell_type": "markdown",
   "source": [
    "### pandas.DataFrame.std\n",
    "\n",
    "`DataFrame.std(axis=0, skipna=True, ddof=1, numeric_only=False, **kwargs)`  \n",
    "Return sample standard deviation over requested axis.  \n",
    "Normalized by N-1 by default. This can be changed using the `ddof` argument.\n",
    "\n",
    "#### Parameters:\n",
    "- **axis** `{index (0), columns (1)}`\n",
    "  - For Series, this parameter is unused and defaults to 0.\n",
    "\n",
    "**Warning**  \n",
    "The behavior of `DataFrame.std` with `axis=None` is deprecated. In a future version, this will reduce over both axes and return a scalar. To retain the old behavior, pass `axis=0` (or do not pass `axis`).\n",
    "\n",
    "- **skipna** `bool`, default True  \n",
    "  Exclude NA/null values. If an entire row/column is NA, the result will be NA.\n",
    "\n",
    "- **ddof** `int`, default 1  \n",
    "  Delta Degrees of Freedom. The divisor used in calculations is `N - ddof`, where N represents the number of elements.\n",
    "\n",
    "- **numeric_only** `bool`, default False  \n",
    "  Include only float, int, and boolean columns. Not implemented for Series.\n",
    "\n",
    "#### Returns:\n",
    "- **Series** or **DataFrame** (if level specified)\n"
   ],
   "id": "9194ddbcea88488b"
  },
  {
   "metadata": {
    "ExecuteTime": {
     "end_time": "2024-11-22T08:50:23.046345Z",
     "start_time": "2024-11-22T08:50:23.027293Z"
    }
   },
   "cell_type": "code",
   "source": "df.std(numeric_only=True)",
   "id": "afc20db992e6fd1a",
   "outputs": [
    {
     "data": {
      "text/plain": [
       "EmployeeID             5.916080\n",
       "Age                   11.968819\n",
       "YearsExperience        5.723404\n",
       "Salary             24090.226989\n",
       "dtype: float64"
      ]
     },
     "execution_count": 11,
     "metadata": {},
     "output_type": "execute_result"
    }
   ],
   "execution_count": 11
  },
  {
   "metadata": {},
   "cell_type": "markdown",
   "source": [
    "### pandas.DataFrame.var\n",
    "\n",
    "`DataFrame.var(axis=0, skipna=True, ddof=1, numeric_only=False, **kwargs)`  \n",
    "Return unbiased variance over the requested axis.  \n",
    "Normalized by \\( N - 1 \\) by default. This can be changed using the `ddof` argument.\n",
    "\n",
    "#### Parameters:\n",
    "- **axis** `{index (0), columns (1)}`\n",
    "  - For Series, this parameter is unused and defaults to 0.\n",
    "\n",
    "**Warning**  \n",
    "The behavior of `DataFrame.var` with `axis=None` is deprecated. In a future version, this will reduce over both axes and return a scalar. To retain the old behavior, pass `axis=0` (or do not pass `axis`).\n",
    "\n",
    "- **skipna** `bool`, default True  \n",
    "  Exclude NA/null values. If an entire row/column is NA, the result will be NA.\n",
    "\n",
    "- **ddof** `int`, default 1  \n",
    "  Delta Degrees of Freedom. The divisor used in calculations is \\( N - \\text{ddof} \\), where \\( N \\) represents the number of elements.\n",
    "\n",
    "- **numeric_only** `bool`, default False  \n",
    "  Include only float, int, and boolean columns. Not implemented for Series.\n",
    "\n",
    "#### Returns:\n",
    "- **Series** or **DataFrame** (if level specified)\n"
   ],
   "id": "1fb8ad28d2d1d8ef"
  },
  {
   "metadata": {
    "ExecuteTime": {
     "end_time": "2024-11-22T08:50:23.185778Z",
     "start_time": "2024-11-22T08:50:23.178944Z"
    }
   },
   "cell_type": "code",
   "source": "df.var(numeric_only=True)",
   "id": "a5a0cfdd4298ad8",
   "outputs": [
    {
     "data": {
      "text/plain": [
       "EmployeeID         3.500000e+01\n",
       "Age                1.432526e+02\n",
       "YearsExperience    3.275735e+01\n",
       "Salary             5.803390e+08\n",
       "dtype: float64"
      ]
     },
     "execution_count": 12,
     "metadata": {},
     "output_type": "execute_result"
    }
   ],
   "execution_count": 12
  },
  {
   "metadata": {},
   "cell_type": "markdown",
   "source": [
    "# pandas.DataFrame.corr\n",
    "\n",
    "`DataFrame.corr(method='pearson', min_periods=1, numeric_only=False)[source]`\n",
    "Compute pairwise correlation of columns, excluding NA/null values.\n",
    "\n",
    "## Parameters\n",
    "\n",
    "- **`method`**: {‘pearson’, ‘kendall’, ‘spearman’} or callable\n",
    "  Method of correlation:\n",
    "  - `pearson`: standard correlation coefficient.\n",
    "  - `kendall`: Kendall Tau correlation coefficient.\n",
    "  - `spearman`: Spearman rank correlation.\n",
    "  - `callable`: callable with input two 1D ndarrays and returning a float. Note that the returned matrix from `corr` will have 1 along the diagonals and will be symmetric regardless of the callable’s behavior.\n",
    "\n",
    "- **`min_periods`**: int, optional\n",
    "  Minimum number of observations required per pair of columns to have a valid result. Currently only available for Pearson and Spearman correlation.\n",
    "\n",
    "- **`numeric_only`**: bool, default False\n",
    "  Include only float, int, or boolean data.\n",
    "  - **Added in version 1.5.0.**\n",
    "  - **Changed in version 2.0.0**: The default value of `numeric_only` is now False.\n",
    "\n",
    "## Returns\n",
    "\n",
    "- **DataFrame**\n",
    "  Correlation matrix.\n"
   ],
   "id": "2bda16682f735544"
  },
  {
   "metadata": {
    "ExecuteTime": {
     "end_time": "2024-11-22T08:57:09.947478Z",
     "start_time": "2024-11-22T08:57:09.938201Z"
    }
   },
   "cell_type": "code",
   "source": "a,b=pd.factorize(df['Department'])",
   "id": "a0b60663c98b861e",
   "outputs": [],
   "execution_count": 24
  },
  {
   "metadata": {
    "ExecuteTime": {
     "end_time": "2024-11-22T08:58:12.517177Z",
     "start_time": "2024-11-22T08:58:12.507316Z"
    }
   },
   "cell_type": "code",
   "source": "df['Department_ID']=a",
   "id": "6a66836f90e481cd",
   "outputs": [],
   "execution_count": 27
  },
  {
   "metadata": {
    "ExecuteTime": {
     "end_time": "2024-11-22T08:59:10.228346Z",
     "start_time": "2024-11-22T08:59:10.220690Z"
    }
   },
   "cell_type": "code",
   "source": "df[['Age','YearsExperience','Salary','Department_ID']].corr()",
   "id": "b807338a198731b7",
   "outputs": [
    {
     "data": {
      "text/plain": [
       "                      Age  YearsExperience    Salary  Department_ID\n",
       "Age              1.000000        -0.080478  0.466668      -0.130397\n",
       "YearsExperience -0.080478         1.000000 -0.026241       0.052518\n",
       "Salary           0.466668        -0.026241  1.000000       0.158810\n",
       "Department_ID   -0.130397         0.052518  0.158810       1.000000"
      ],
      "text/html": [
       "<div>\n",
       "<style scoped>\n",
       "    .dataframe tbody tr th:only-of-type {\n",
       "        vertical-align: middle;\n",
       "    }\n",
       "\n",
       "    .dataframe tbody tr th {\n",
       "        vertical-align: top;\n",
       "    }\n",
       "\n",
       "    .dataframe thead th {\n",
       "        text-align: right;\n",
       "    }\n",
       "</style>\n",
       "<table border=\"1\" class=\"dataframe\">\n",
       "  <thead>\n",
       "    <tr style=\"text-align: right;\">\n",
       "      <th></th>\n",
       "      <th>Age</th>\n",
       "      <th>YearsExperience</th>\n",
       "      <th>Salary</th>\n",
       "      <th>Department_ID</th>\n",
       "    </tr>\n",
       "  </thead>\n",
       "  <tbody>\n",
       "    <tr>\n",
       "      <th>Age</th>\n",
       "      <td>1.000000</td>\n",
       "      <td>-0.080478</td>\n",
       "      <td>0.466668</td>\n",
       "      <td>-0.130397</td>\n",
       "    </tr>\n",
       "    <tr>\n",
       "      <th>YearsExperience</th>\n",
       "      <td>-0.080478</td>\n",
       "      <td>1.000000</td>\n",
       "      <td>-0.026241</td>\n",
       "      <td>0.052518</td>\n",
       "    </tr>\n",
       "    <tr>\n",
       "      <th>Salary</th>\n",
       "      <td>0.466668</td>\n",
       "      <td>-0.026241</td>\n",
       "      <td>1.000000</td>\n",
       "      <td>0.158810</td>\n",
       "    </tr>\n",
       "    <tr>\n",
       "      <th>Department_ID</th>\n",
       "      <td>-0.130397</td>\n",
       "      <td>0.052518</td>\n",
       "      <td>0.158810</td>\n",
       "      <td>1.000000</td>\n",
       "    </tr>\n",
       "  </tbody>\n",
       "</table>\n",
       "</div>"
      ]
     },
     "execution_count": 29,
     "metadata": {},
     "output_type": "execute_result"
    }
   ],
   "execution_count": 29
  },
  {
   "metadata": {
    "ExecuteTime": {
     "end_time": "2024-11-22T08:57:17.679387Z",
     "start_time": "2024-11-22T08:57:17.673054Z"
    }
   },
   "cell_type": "code",
   "source": "",
   "id": "8665409ca4d16787",
   "outputs": [
    {
     "data": {
      "text/plain": [
       "Index(['Engineering', 'Sales', 'HR', 'Marketing'], dtype='object')"
      ]
     },
     "execution_count": 26,
     "metadata": {},
     "output_type": "execute_result"
    }
   ],
   "execution_count": 26
  },
  {
   "metadata": {},
   "cell_type": "code",
   "outputs": [],
   "execution_count": null,
   "source": "",
   "id": "ad631bf9ea10cc8f"
  }
 ],
 "metadata": {
  "kernelspec": {
   "display_name": "Python 3",
   "language": "python",
   "name": "python3"
  },
  "language_info": {
   "codemirror_mode": {
    "name": "ipython",
    "version": 2
   },
   "file_extension": ".py",
   "mimetype": "text/x-python",
   "name": "python",
   "nbconvert_exporter": "python",
   "pygments_lexer": "ipython2",
   "version": "2.7.6"
  }
 },
 "nbformat": 4,
 "nbformat_minor": 5
}
