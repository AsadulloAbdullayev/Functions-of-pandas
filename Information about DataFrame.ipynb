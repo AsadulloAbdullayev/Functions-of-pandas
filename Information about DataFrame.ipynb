{
 "cells": [
  {
   "metadata": {},
   "cell_type": "markdown",
   "source": [
    "## DataFrame.info\n",
    "\n",
    "`DataFrame.info(verbose=None, buf=None, max_cols=None, memory_usage=None, show_counts=None)`\n",
    "\n",
    "Print a concise summary of a DataFrame.\n",
    "\n",
    "This method prints information about a DataFrame including the index dtype and columns, non-null values, and memory usage.\n",
    "\n",
    "### Parameters:\n",
    "- **verbose**: `bool`, optional  \n",
    "  Whether to print the full summary. By default, the setting in `pandas.options.display.max_info_columns` is followed.\n",
    "\n",
    "- **buf**: writable buffer, defaults to `sys.stdout`  \n",
    "  Where to send the output. By default, the output is printed to `sys.stdout`. Pass a writable buffer if you need to further process the output.\n",
    "\n",
    "- **max_cols**: `int`, optional  \n",
    "  When to switch from the verbose to the truncated output. If the DataFrame has more than `max_cols` columns, the truncated output is used. By default, the setting in `pandas.options.display.max_info_columns` is used.\n",
    "\n",
    "- **memory_usage**: `bool`, `str`, optional  \n",
    "  Specifies whether total memory usage of the DataFrame elements (including the index) should be displayed. By default, this follows the `pandas.options.display.memory_usage` setting.\n",
    "  \n",
    "  - `True` always shows memory usage.\n",
    "  - `False` never shows memory usage.\n",
    "  - A value of 'deep' is equivalent to “True with deep introspection”. Memory usage is shown in human-readable units (base-2 representation). Without deep introspection, a memory estimation is made based on column dtype and number of rows, assuming values consume the same memory amount for corresponding dtypes. With deep memory introspection, a real memory usage calculation is performed at the cost of computational resources. See the Frequently Asked Questions for more details.\n",
    "\n",
    "- **show_counts**: `bool`, optional  \n",
    "  Whether to show the non-null counts. By default, this is shown only if the DataFrame is smaller than `pandas.options.display.max_info_rows` and `pandas.options.display.max_info_columns`. A value of `True` always shows the counts, and `False` never shows the counts."
   ],
   "id": "9d290770425c825e"
  },
  {
   "cell_type": "code",
   "id": "initial_id",
   "metadata": {
    "collapsed": true,
    "ExecuteTime": {
     "end_time": "2024-11-09T06:25:00.738682Z",
     "start_time": "2024-11-09T06:25:00.254293Z"
    }
   },
   "source": [
    "import pandas as pd\n",
    "\n",
    "# Creating a sample DataFrame\n",
    "data = {\n",
    "    'Name': ['Alice', 'Bob', 'Charlie', 'David'],\n",
    "    'Age': [24, 27, 22, 32],\n",
    "    'Occupation': ['Engineer', 'Doctor', None, 'Artist']\n",
    "}\n",
    "\n",
    "df = pd.DataFrame(data)\n",
    "\n",
    "# Using the DataFrame.info method\n",
    "print(\"Default info:\")\n",
    "df.info()\n",
    "\n"
   ],
   "outputs": [
    {
     "name": "stdout",
     "output_type": "stream",
     "text": [
      "Default info:\n",
      "<class 'pandas.core.frame.DataFrame'>\n",
      "RangeIndex: 4 entries, 0 to 3\n",
      "Data columns (total 3 columns):\n",
      " #   Column      Non-Null Count  Dtype \n",
      "---  ------      --------------  ----- \n",
      " 0   Name        4 non-null      object\n",
      " 1   Age         4 non-null      int64 \n",
      " 2   Occupation  3 non-null      object\n",
      "dtypes: int64(1), object(2)\n",
      "memory usage: 228.0+ bytes\n"
     ]
    }
   ],
   "execution_count": 3
  },
  {
   "metadata": {
    "ExecuteTime": {
     "end_time": "2024-11-09T06:25:03.980071Z",
     "start_time": "2024-11-09T06:25:03.971078Z"
    }
   },
   "cell_type": "code",
   "source": [
    "print(\"\\nVerbose info:\")\n",
    "df.info(verbose=True)\n",
    "\n"
   ],
   "id": "8640976c017e1676",
   "outputs": [
    {
     "name": "stdout",
     "output_type": "stream",
     "text": [
      "\n",
      "Verbose info:\n",
      "<class 'pandas.core.frame.DataFrame'>\n",
      "RangeIndex: 4 entries, 0 to 3\n",
      "Data columns (total 3 columns):\n",
      " #   Column      Non-Null Count  Dtype \n",
      "---  ------      --------------  ----- \n",
      " 0   Name        4 non-null      object\n",
      " 1   Age         4 non-null      int64 \n",
      " 2   Occupation  3 non-null      object\n",
      "dtypes: int64(1), object(2)\n",
      "memory usage: 228.0+ bytes\n"
     ]
    }
   ],
   "execution_count": 4
  },
  {
   "metadata": {
    "ExecuteTime": {
     "end_time": "2024-11-09T06:25:15.779821Z",
     "start_time": "2024-11-09T06:25:15.772817Z"
    }
   },
   "cell_type": "code",
   "source": [
    "print(\"\\nInfo with memory usage:\")\n",
    "df.info(memory_usage='deep')\n"
   ],
   "id": "83c60f44b3b600cd",
   "outputs": [
    {
     "name": "stdout",
     "output_type": "stream",
     "text": [
      "\n",
      "Info with memory usage:\n",
      "<class 'pandas.core.frame.DataFrame'>\n",
      "RangeIndex: 4 entries, 0 to 3\n",
      "Data columns (total 3 columns):\n",
      " #   Column      Non-Null Count  Dtype \n",
      "---  ------      --------------  ----- \n",
      " 0   Name        4 non-null      object\n",
      " 1   Age         4 non-null      int64 \n",
      " 2   Occupation  3 non-null      object\n",
      "dtypes: int64(1), object(2)\n",
      "memory usage: 571.0 bytes\n"
     ]
    }
   ],
   "execution_count": 5
  },
  {
   "metadata": {
    "ExecuteTime": {
     "end_time": "2024-11-09T06:25:31.872421Z",
     "start_time": "2024-11-09T06:25:31.865589Z"
    }
   },
   "cell_type": "code",
   "source": [
    "\n",
    "print(\"\\nInfo with non-null counts always shown:\")\n",
    "df.info(show_counts=True)\n"
   ],
   "id": "744c4194b9d20696",
   "outputs": [
    {
     "name": "stdout",
     "output_type": "stream",
     "text": [
      "\n",
      "Info with non-null counts always shown:\n",
      "<class 'pandas.core.frame.DataFrame'>\n",
      "RangeIndex: 4 entries, 0 to 3\n",
      "Data columns (total 3 columns):\n",
      " #   Column      Non-Null Count  Dtype \n",
      "---  ------      --------------  ----- \n",
      " 0   Name        4 non-null      object\n",
      " 1   Age         4 non-null      int64 \n",
      " 2   Occupation  3 non-null      object\n",
      "dtypes: int64(1), object(2)\n",
      "memory usage: 228.0+ bytes\n"
     ]
    }
   ],
   "execution_count": 6
  },
  {
   "metadata": {},
   "cell_type": "markdown",
   "source": [
    "## DataFrame.describe\n",
    "\n",
    "`DataFrame.describe(percentiles=None, include=None, exclude=None)`\n",
    "\n",
    "Generate descriptive statistics.\n",
    "\n",
    "Descriptive statistics include those that summarize the central tendency, dispersion, and shape of a dataset’s distribution, excluding NaN values.\n",
    "\n",
    "Analyzes both numeric and object series, as well as DataFrame column sets of mixed data types. The output will vary depending on what is provided. Refer to the notes below for more detail.\n",
    "\n",
    "### Parameters:\n",
    "\n",
    "- **percentiles**: `list-like of numbers`, optional  \n",
    "  The percentiles to include in the output. All should fall between 0 and 1. The default is `[.25, .5, .75]`, which returns the 25th, 50th, and 75th percentiles.\n",
    "\n",
    "- **include**: `'all'`, `list-like of dtypes` or `None` (default), optional  \n",
    "  A whitelist of data types to include in the result. Ignored for Series. Here are the options:\n",
    "  - `'all'`: All columns of the input will be included in the output.\n",
    "  - A `list-like of dtypes`: Limits the results to the provided data types. To limit the result to numeric types, submit `numpy.number`. To limit it instead to object columns, submit the data type `numpy.object`. Strings can also be used in the style of `select_dtypes` (e.g. `df.describe(include=['O'])`). To select pandas categorical columns, use `'category'`.\n",
    "  - `None` (default): The result will include all numeric columns.\n",
    "\n",
    "- **exclude**: `list-like of dtypes` or `None` (default), optional  \n",
    "  A blacklist of data types to omit from the result. Ignored for Series. Here are the options:\n",
    "  - A `list-like of dtypes`: Excludes the provided data types from the result. To exclude numeric types, submit `numpy.number`. To exclude object columns, submit the data type `numpy.object`. Strings can also be used in the style of `select_dtypes` (e.g. `df.describe(exclude=['O'])`). To exclude pandas categorical columns, use `'category'`.\n",
    "  - `None` (default): The result will exclude nothing."
   ],
   "id": "914ca64477d8b5a1"
  },
  {
   "metadata": {
    "ExecuteTime": {
     "end_time": "2024-11-09T06:32:07.543142Z",
     "start_time": "2024-11-09T06:32:07.529737Z"
    }
   },
   "cell_type": "code",
   "source": [
    "import pandas as pd\n",
    "import numpy as np\n",
    "\n",
    "# Creating a sample DataFrame\n",
    "data = {\n",
    "    'Name': ['Alice', 'Bob', 'Charlie', 'David'],\n",
    "    'Age': [24, 27, 22, 32],\n",
    "    'Salary': [70000, 55000, 42000, 60000],\n",
    "    'Occupation': ['Engineer', 'Doctor', 'Artist', 'Artist']\n",
    "}\n",
    "\n",
    "df = pd.DataFrame(data)\n",
    "\n",
    "# Using the DataFrame.describe method with default settings\n",
    "print(\"Default describe:\")\n",
    "print(df.describe())\n",
    "\n"
   ],
   "id": "e36f01e784694d96",
   "outputs": [
    {
     "name": "stdout",
     "output_type": "stream",
     "text": [
      "Default describe:\n",
      "             Age       Salary\n",
      "count   4.000000      4.00000\n",
      "mean   26.250000  56750.00000\n",
      "std     4.349329  11644.02565\n",
      "min    22.000000  42000.00000\n",
      "25%    23.500000  51750.00000\n",
      "50%    25.500000  57500.00000\n",
      "75%    28.250000  62500.00000\n",
      "max    32.000000  70000.00000\n"
     ]
    }
   ],
   "execution_count": 7
  },
  {
   "metadata": {
    "ExecuteTime": {
     "end_time": "2024-11-09T06:32:17.161754Z",
     "start_time": "2024-11-09T06:32:17.150251Z"
    }
   },
   "cell_type": "code",
   "source": [
    "\n",
    "# Including non-numeric columns in the describe method\n",
    "print(\"\\nDescribe including all data types:\")\n",
    "print(df.describe(include='all'))\n",
    "\n"
   ],
   "id": "8c464fe9ac0cd4b",
   "outputs": [
    {
     "name": "stdout",
     "output_type": "stream",
     "text": [
      "\n",
      "Describe including all data types:\n",
      "         Name        Age       Salary Occupation\n",
      "count       4   4.000000      4.00000          4\n",
      "unique      4        NaN          NaN          3\n",
      "top     Alice        NaN          NaN     Artist\n",
      "freq        1        NaN          NaN          2\n",
      "mean      NaN  26.250000  56750.00000        NaN\n",
      "std       NaN   4.349329  11644.02565        NaN\n",
      "min       NaN  22.000000  42000.00000        NaN\n",
      "25%       NaN  23.500000  51750.00000        NaN\n",
      "50%       NaN  25.500000  57500.00000        NaN\n",
      "75%       NaN  28.250000  62500.00000        NaN\n",
      "max       NaN  32.000000  70000.00000        NaN\n"
     ]
    }
   ],
   "execution_count": 8
  },
  {
   "metadata": {
    "ExecuteTime": {
     "end_time": "2024-11-09T06:32:34.801926Z",
     "start_time": "2024-11-09T06:32:34.793215Z"
    }
   },
   "cell_type": "code",
   "source": [
    "# Specifying percentiles\n",
    "print(\"\\nDescribe with custom percentiles (10%, 50%, 90%):\")\n",
    "print(df.describe(percentiles=[.1, .5, .9]))\n",
    "\n"
   ],
   "id": "849b339e7659f85e",
   "outputs": [
    {
     "name": "stdout",
     "output_type": "stream",
     "text": [
      "\n",
      "Describe with custom percentiles (10%, 50%, 90%):\n",
      "             Age       Salary\n",
      "count   4.000000      4.00000\n",
      "mean   26.250000  56750.00000\n",
      "std     4.349329  11644.02565\n",
      "min    22.000000  42000.00000\n",
      "10%    22.600000  45900.00000\n",
      "50%    25.500000  57500.00000\n",
      "90%    30.500000  67000.00000\n",
      "max    32.000000  70000.00000\n"
     ]
    }
   ],
   "execution_count": 9
  },
  {
   "metadata": {
    "ExecuteTime": {
     "end_time": "2024-11-09T06:32:56.935936Z",
     "start_time": "2024-11-09T06:32:56.927614Z"
    }
   },
   "cell_type": "code",
   "source": [
    "# Excluding numeric columns from the describe method\n",
    "print(\"\\nDescribe excluding numeric columns:\")\n",
    "print(df.describe(exclude=[np.number]))\n"
   ],
   "id": "922ada77ffeb08d2",
   "outputs": [
    {
     "name": "stdout",
     "output_type": "stream",
     "text": [
      "\n",
      "Describe excluding numeric columns:\n",
      "         Name Occupation\n",
      "count       4          4\n",
      "unique      4          3\n",
      "top     Alice     Artist\n",
      "freq        1          2\n"
     ]
    }
   ],
   "execution_count": 10
  },
  {
   "metadata": {
    "ExecuteTime": {
     "end_time": "2024-11-09T06:39:27.195589Z",
     "start_time": "2024-11-09T06:39:27.188542Z"
    }
   },
   "cell_type": "code",
   "source": [
    "\n",
    "# Including only object columns (such as strings)\n",
    "print(\"\\nDescribe including only object columns:\")\n",
    "print(df.describe(include=[np.object_]))"
   ],
   "id": "a9c1c0ec3312e459",
   "outputs": [
    {
     "name": "stdout",
     "output_type": "stream",
     "text": [
      "\n",
      "Describe including only object columns:\n",
      "         Name Occupation\n",
      "count       4          4\n",
      "unique      4          3\n",
      "top     Alice     Artist\n",
      "freq        1          2\n"
     ]
    }
   ],
   "execution_count": 12
  },
  {
   "metadata": {},
   "cell_type": "code",
   "outputs": [],
   "execution_count": null,
   "source": "",
   "id": "1d8306983c1ed75d"
  }
 ],
 "metadata": {
  "kernelspec": {
   "display_name": "Python 3",
   "language": "python",
   "name": "python3"
  },
  "language_info": {
   "codemirror_mode": {
    "name": "ipython",
    "version": 2
   },
   "file_extension": ".py",
   "mimetype": "text/x-python",
   "name": "python",
   "nbconvert_exporter": "python",
   "pygments_lexer": "ipython2",
   "version": "2.7.6"
  }
 },
 "nbformat": 4,
 "nbformat_minor": 5
}
