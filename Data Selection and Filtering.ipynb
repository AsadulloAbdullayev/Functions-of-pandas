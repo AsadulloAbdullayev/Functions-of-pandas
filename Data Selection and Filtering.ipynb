{
 "cells": [
  {
   "metadata": {},
   "cell_type": "markdown",
   "source": [
    "### pandas.DataFrame.head\n",
    "\n",
    "**DataFrame.head(n=5)**\n",
    "\n",
    "Return the first n rows.\n",
    "\n",
    "This function returns the first n rows for the object based on position. It is useful for quickly testing if your object has the right type of data in it.\n",
    "\n",
    "For negative values of n, this function returns all rows except the last |n| rows, equivalent to `df[:n]`. If n is larger than the number of rows, this function returns all rows.\n",
    "\n",
    "#### Parameters:\n",
    "- **n**: `int`, default 5  \n",
    "  Number of rows to select.\n",
    "\n",
    "#### Returns:\n",
    "- **same type as caller**  \n",
    "  The first n rows of the caller object."
   ],
   "id": "704f3247e2cab6b7"
  },
  {
   "cell_type": "code",
   "id": "initial_id",
   "metadata": {
    "collapsed": true,
    "ExecuteTime": {
     "end_time": "2024-11-10T15:25:07.069352Z",
     "start_time": "2024-11-10T15:25:06.153419Z"
    }
   },
   "source": [
    "import pandas as pd \n",
    "import numpy as np\n",
    "\n",
    "# DataFrame uchun ma'lumotlar\n",
    "data = {\n",
    "    'Name': ['Alice', 'Bob', 'Charlie', 'David', 'Eva', 'Fanny', 'Greta'],\n",
    "    'Age': [24, 30, 22, 35, 29, 25, 40],\n",
    "    'Salary': [70000, 80000, 65000, 90000, 75000,85000,50000],\n",
    "    'Department': ['HR', 'IT', 'Finance', 'IT', 'HR','IT','Finance'],\n",
    "    'Joining_Date': pd.to_datetime(['2020-01-15', '2019-03-22', '2021-07-30', '2018-11-05', '2020-06-10','2018-11-05', '2020-06-10']),\n",
    "    'Performance_Score': [3.5, 4.0, 3.8, 4.5, 4.2,4.3,4.4],\n",
    "    'Is_Manager': [False, True, False, True, False,True,False]\n",
    "}\n",
    "\n",
    "# DataFrame ni yaratish\n",
    "df = pd.DataFrame(data)\n",
    "\n",
    "# DataFrame ni ko'rsatish\n",
    "print(df)"
   ],
   "outputs": [
    {
     "name": "stdout",
     "output_type": "stream",
     "text": [
      "      Name  Age  Salary Department Joining_Date  Performance_Score  Is_Manager\n",
      "0    Alice   24   70000         HR   2020-01-15                3.5       False\n",
      "1      Bob   30   80000         IT   2019-03-22                4.0        True\n",
      "2  Charlie   22   65000    Finance   2021-07-30                3.8       False\n",
      "3    David   35   90000         IT   2018-11-05                4.5        True\n",
      "4      Eva   29   75000         HR   2020-06-10                4.2       False\n",
      "5    Fanny   25   85000         IT   2018-11-05                4.3        True\n",
      "6    Greta   40   50000    Finance   2020-06-10                4.4       False\n"
     ]
    }
   ],
   "execution_count": 1
  },
  {
   "metadata": {
    "ExecuteTime": {
     "end_time": "2024-11-10T15:25:07.127664Z",
     "start_time": "2024-11-10T15:25:07.105387Z"
    }
   },
   "cell_type": "code",
   "source": "df.head()",
   "id": "e5cbc345a1c89eb",
   "outputs": [
    {
     "data": {
      "text/plain": [
       "      Name  Age  Salary Department Joining_Date  Performance_Score  Is_Manager\n",
       "0    Alice   24   70000         HR   2020-01-15                3.5       False\n",
       "1      Bob   30   80000         IT   2019-03-22                4.0        True\n",
       "2  Charlie   22   65000    Finance   2021-07-30                3.8       False\n",
       "3    David   35   90000         IT   2018-11-05                4.5        True\n",
       "4      Eva   29   75000         HR   2020-06-10                4.2       False"
      ],
      "text/html": [
       "<div>\n",
       "<style scoped>\n",
       "    .dataframe tbody tr th:only-of-type {\n",
       "        vertical-align: middle;\n",
       "    }\n",
       "\n",
       "    .dataframe tbody tr th {\n",
       "        vertical-align: top;\n",
       "    }\n",
       "\n",
       "    .dataframe thead th {\n",
       "        text-align: right;\n",
       "    }\n",
       "</style>\n",
       "<table border=\"1\" class=\"dataframe\">\n",
       "  <thead>\n",
       "    <tr style=\"text-align: right;\">\n",
       "      <th></th>\n",
       "      <th>Name</th>\n",
       "      <th>Age</th>\n",
       "      <th>Salary</th>\n",
       "      <th>Department</th>\n",
       "      <th>Joining_Date</th>\n",
       "      <th>Performance_Score</th>\n",
       "      <th>Is_Manager</th>\n",
       "    </tr>\n",
       "  </thead>\n",
       "  <tbody>\n",
       "    <tr>\n",
       "      <th>0</th>\n",
       "      <td>Alice</td>\n",
       "      <td>24</td>\n",
       "      <td>70000</td>\n",
       "      <td>HR</td>\n",
       "      <td>2020-01-15</td>\n",
       "      <td>3.5</td>\n",
       "      <td>False</td>\n",
       "    </tr>\n",
       "    <tr>\n",
       "      <th>1</th>\n",
       "      <td>Bob</td>\n",
       "      <td>30</td>\n",
       "      <td>80000</td>\n",
       "      <td>IT</td>\n",
       "      <td>2019-03-22</td>\n",
       "      <td>4.0</td>\n",
       "      <td>True</td>\n",
       "    </tr>\n",
       "    <tr>\n",
       "      <th>2</th>\n",
       "      <td>Charlie</td>\n",
       "      <td>22</td>\n",
       "      <td>65000</td>\n",
       "      <td>Finance</td>\n",
       "      <td>2021-07-30</td>\n",
       "      <td>3.8</td>\n",
       "      <td>False</td>\n",
       "    </tr>\n",
       "    <tr>\n",
       "      <th>3</th>\n",
       "      <td>David</td>\n",
       "      <td>35</td>\n",
       "      <td>90000</td>\n",
       "      <td>IT</td>\n",
       "      <td>2018-11-05</td>\n",
       "      <td>4.5</td>\n",
       "      <td>True</td>\n",
       "    </tr>\n",
       "    <tr>\n",
       "      <th>4</th>\n",
       "      <td>Eva</td>\n",
       "      <td>29</td>\n",
       "      <td>75000</td>\n",
       "      <td>HR</td>\n",
       "      <td>2020-06-10</td>\n",
       "      <td>4.2</td>\n",
       "      <td>False</td>\n",
       "    </tr>\n",
       "  </tbody>\n",
       "</table>\n",
       "</div>"
      ]
     },
     "execution_count": 2,
     "metadata": {},
     "output_type": "execute_result"
    }
   ],
   "execution_count": 2
  },
  {
   "metadata": {
    "ExecuteTime": {
     "end_time": "2024-11-10T15:25:07.297059Z",
     "start_time": "2024-11-10T15:25:07.283778Z"
    }
   },
   "cell_type": "code",
   "source": "df.head(6)",
   "id": "e56c6be3533fe47",
   "outputs": [
    {
     "data": {
      "text/plain": [
       "      Name  Age  Salary Department Joining_Date  Performance_Score  Is_Manager\n",
       "0    Alice   24   70000         HR   2020-01-15                3.5       False\n",
       "1      Bob   30   80000         IT   2019-03-22                4.0        True\n",
       "2  Charlie   22   65000    Finance   2021-07-30                3.8       False\n",
       "3    David   35   90000         IT   2018-11-05                4.5        True\n",
       "4      Eva   29   75000         HR   2020-06-10                4.2       False\n",
       "5    Fanny   25   85000         IT   2018-11-05                4.3        True"
      ],
      "text/html": [
       "<div>\n",
       "<style scoped>\n",
       "    .dataframe tbody tr th:only-of-type {\n",
       "        vertical-align: middle;\n",
       "    }\n",
       "\n",
       "    .dataframe tbody tr th {\n",
       "        vertical-align: top;\n",
       "    }\n",
       "\n",
       "    .dataframe thead th {\n",
       "        text-align: right;\n",
       "    }\n",
       "</style>\n",
       "<table border=\"1\" class=\"dataframe\">\n",
       "  <thead>\n",
       "    <tr style=\"text-align: right;\">\n",
       "      <th></th>\n",
       "      <th>Name</th>\n",
       "      <th>Age</th>\n",
       "      <th>Salary</th>\n",
       "      <th>Department</th>\n",
       "      <th>Joining_Date</th>\n",
       "      <th>Performance_Score</th>\n",
       "      <th>Is_Manager</th>\n",
       "    </tr>\n",
       "  </thead>\n",
       "  <tbody>\n",
       "    <tr>\n",
       "      <th>0</th>\n",
       "      <td>Alice</td>\n",
       "      <td>24</td>\n",
       "      <td>70000</td>\n",
       "      <td>HR</td>\n",
       "      <td>2020-01-15</td>\n",
       "      <td>3.5</td>\n",
       "      <td>False</td>\n",
       "    </tr>\n",
       "    <tr>\n",
       "      <th>1</th>\n",
       "      <td>Bob</td>\n",
       "      <td>30</td>\n",
       "      <td>80000</td>\n",
       "      <td>IT</td>\n",
       "      <td>2019-03-22</td>\n",
       "      <td>4.0</td>\n",
       "      <td>True</td>\n",
       "    </tr>\n",
       "    <tr>\n",
       "      <th>2</th>\n",
       "      <td>Charlie</td>\n",
       "      <td>22</td>\n",
       "      <td>65000</td>\n",
       "      <td>Finance</td>\n",
       "      <td>2021-07-30</td>\n",
       "      <td>3.8</td>\n",
       "      <td>False</td>\n",
       "    </tr>\n",
       "    <tr>\n",
       "      <th>3</th>\n",
       "      <td>David</td>\n",
       "      <td>35</td>\n",
       "      <td>90000</td>\n",
       "      <td>IT</td>\n",
       "      <td>2018-11-05</td>\n",
       "      <td>4.5</td>\n",
       "      <td>True</td>\n",
       "    </tr>\n",
       "    <tr>\n",
       "      <th>4</th>\n",
       "      <td>Eva</td>\n",
       "      <td>29</td>\n",
       "      <td>75000</td>\n",
       "      <td>HR</td>\n",
       "      <td>2020-06-10</td>\n",
       "      <td>4.2</td>\n",
       "      <td>False</td>\n",
       "    </tr>\n",
       "    <tr>\n",
       "      <th>5</th>\n",
       "      <td>Fanny</td>\n",
       "      <td>25</td>\n",
       "      <td>85000</td>\n",
       "      <td>IT</td>\n",
       "      <td>2018-11-05</td>\n",
       "      <td>4.3</td>\n",
       "      <td>True</td>\n",
       "    </tr>\n",
       "  </tbody>\n",
       "</table>\n",
       "</div>"
      ]
     },
     "execution_count": 3,
     "metadata": {},
     "output_type": "execute_result"
    }
   ],
   "execution_count": 3
  },
  {
   "metadata": {},
   "cell_type": "markdown",
   "source": [
    "### pandas.DataFrame.tail\n",
    "\n",
    "**DataFrame.tail(n=5)**\n",
    "\n",
    "Return the last n rows.\n",
    "\n",
    "This function returns the last n rows from the object based on position. It is useful for quickly verifying data, for example, after sorting or appending rows.\n",
    "\n",
    "For negative values of n, this function returns all rows except the first |n| rows, equivalent to `df[|n|:]`. If n is larger than the number of rows, this function returns all rows.\n",
    "\n",
    "#### Parameters:\n",
    "- **n**: `int`, default 5  \n",
    "  Number of rows to select.\n",
    "\n",
    "#### Returns:\n",
    "- **type of caller**  \n",
    "  The last n rows of the caller object."
   ],
   "id": "a19944e315c2bd9a"
  },
  {
   "metadata": {
    "ExecuteTime": {
     "end_time": "2024-11-10T15:25:07.373274Z",
     "start_time": "2024-11-10T15:25:07.358597Z"
    }
   },
   "cell_type": "code",
   "source": "df.tail()",
   "id": "7e46630c2000f049",
   "outputs": [
    {
     "data": {
      "text/plain": [
       "      Name  Age  Salary Department Joining_Date  Performance_Score  Is_Manager\n",
       "2  Charlie   22   65000    Finance   2021-07-30                3.8       False\n",
       "3    David   35   90000         IT   2018-11-05                4.5        True\n",
       "4      Eva   29   75000         HR   2020-06-10                4.2       False\n",
       "5    Fanny   25   85000         IT   2018-11-05                4.3        True\n",
       "6    Greta   40   50000    Finance   2020-06-10                4.4       False"
      ],
      "text/html": [
       "<div>\n",
       "<style scoped>\n",
       "    .dataframe tbody tr th:only-of-type {\n",
       "        vertical-align: middle;\n",
       "    }\n",
       "\n",
       "    .dataframe tbody tr th {\n",
       "        vertical-align: top;\n",
       "    }\n",
       "\n",
       "    .dataframe thead th {\n",
       "        text-align: right;\n",
       "    }\n",
       "</style>\n",
       "<table border=\"1\" class=\"dataframe\">\n",
       "  <thead>\n",
       "    <tr style=\"text-align: right;\">\n",
       "      <th></th>\n",
       "      <th>Name</th>\n",
       "      <th>Age</th>\n",
       "      <th>Salary</th>\n",
       "      <th>Department</th>\n",
       "      <th>Joining_Date</th>\n",
       "      <th>Performance_Score</th>\n",
       "      <th>Is_Manager</th>\n",
       "    </tr>\n",
       "  </thead>\n",
       "  <tbody>\n",
       "    <tr>\n",
       "      <th>2</th>\n",
       "      <td>Charlie</td>\n",
       "      <td>22</td>\n",
       "      <td>65000</td>\n",
       "      <td>Finance</td>\n",
       "      <td>2021-07-30</td>\n",
       "      <td>3.8</td>\n",
       "      <td>False</td>\n",
       "    </tr>\n",
       "    <tr>\n",
       "      <th>3</th>\n",
       "      <td>David</td>\n",
       "      <td>35</td>\n",
       "      <td>90000</td>\n",
       "      <td>IT</td>\n",
       "      <td>2018-11-05</td>\n",
       "      <td>4.5</td>\n",
       "      <td>True</td>\n",
       "    </tr>\n",
       "    <tr>\n",
       "      <th>4</th>\n",
       "      <td>Eva</td>\n",
       "      <td>29</td>\n",
       "      <td>75000</td>\n",
       "      <td>HR</td>\n",
       "      <td>2020-06-10</td>\n",
       "      <td>4.2</td>\n",
       "      <td>False</td>\n",
       "    </tr>\n",
       "    <tr>\n",
       "      <th>5</th>\n",
       "      <td>Fanny</td>\n",
       "      <td>25</td>\n",
       "      <td>85000</td>\n",
       "      <td>IT</td>\n",
       "      <td>2018-11-05</td>\n",
       "      <td>4.3</td>\n",
       "      <td>True</td>\n",
       "    </tr>\n",
       "    <tr>\n",
       "      <th>6</th>\n",
       "      <td>Greta</td>\n",
       "      <td>40</td>\n",
       "      <td>50000</td>\n",
       "      <td>Finance</td>\n",
       "      <td>2020-06-10</td>\n",
       "      <td>4.4</td>\n",
       "      <td>False</td>\n",
       "    </tr>\n",
       "  </tbody>\n",
       "</table>\n",
       "</div>"
      ]
     },
     "execution_count": 4,
     "metadata": {},
     "output_type": "execute_result"
    }
   ],
   "execution_count": 4
  },
  {
   "metadata": {
    "ExecuteTime": {
     "end_time": "2024-11-10T15:25:07.639635Z",
     "start_time": "2024-11-10T15:25:07.626181Z"
    }
   },
   "cell_type": "code",
   "source": "df.tail(6)",
   "id": "eb8c00e06f459671",
   "outputs": [
    {
     "data": {
      "text/plain": [
       "      Name  Age  Salary Department Joining_Date  Performance_Score  Is_Manager\n",
       "1      Bob   30   80000         IT   2019-03-22                4.0        True\n",
       "2  Charlie   22   65000    Finance   2021-07-30                3.8       False\n",
       "3    David   35   90000         IT   2018-11-05                4.5        True\n",
       "4      Eva   29   75000         HR   2020-06-10                4.2       False\n",
       "5    Fanny   25   85000         IT   2018-11-05                4.3        True\n",
       "6    Greta   40   50000    Finance   2020-06-10                4.4       False"
      ],
      "text/html": [
       "<div>\n",
       "<style scoped>\n",
       "    .dataframe tbody tr th:only-of-type {\n",
       "        vertical-align: middle;\n",
       "    }\n",
       "\n",
       "    .dataframe tbody tr th {\n",
       "        vertical-align: top;\n",
       "    }\n",
       "\n",
       "    .dataframe thead th {\n",
       "        text-align: right;\n",
       "    }\n",
       "</style>\n",
       "<table border=\"1\" class=\"dataframe\">\n",
       "  <thead>\n",
       "    <tr style=\"text-align: right;\">\n",
       "      <th></th>\n",
       "      <th>Name</th>\n",
       "      <th>Age</th>\n",
       "      <th>Salary</th>\n",
       "      <th>Department</th>\n",
       "      <th>Joining_Date</th>\n",
       "      <th>Performance_Score</th>\n",
       "      <th>Is_Manager</th>\n",
       "    </tr>\n",
       "  </thead>\n",
       "  <tbody>\n",
       "    <tr>\n",
       "      <th>1</th>\n",
       "      <td>Bob</td>\n",
       "      <td>30</td>\n",
       "      <td>80000</td>\n",
       "      <td>IT</td>\n",
       "      <td>2019-03-22</td>\n",
       "      <td>4.0</td>\n",
       "      <td>True</td>\n",
       "    </tr>\n",
       "    <tr>\n",
       "      <th>2</th>\n",
       "      <td>Charlie</td>\n",
       "      <td>22</td>\n",
       "      <td>65000</td>\n",
       "      <td>Finance</td>\n",
       "      <td>2021-07-30</td>\n",
       "      <td>3.8</td>\n",
       "      <td>False</td>\n",
       "    </tr>\n",
       "    <tr>\n",
       "      <th>3</th>\n",
       "      <td>David</td>\n",
       "      <td>35</td>\n",
       "      <td>90000</td>\n",
       "      <td>IT</td>\n",
       "      <td>2018-11-05</td>\n",
       "      <td>4.5</td>\n",
       "      <td>True</td>\n",
       "    </tr>\n",
       "    <tr>\n",
       "      <th>4</th>\n",
       "      <td>Eva</td>\n",
       "      <td>29</td>\n",
       "      <td>75000</td>\n",
       "      <td>HR</td>\n",
       "      <td>2020-06-10</td>\n",
       "      <td>4.2</td>\n",
       "      <td>False</td>\n",
       "    </tr>\n",
       "    <tr>\n",
       "      <th>5</th>\n",
       "      <td>Fanny</td>\n",
       "      <td>25</td>\n",
       "      <td>85000</td>\n",
       "      <td>IT</td>\n",
       "      <td>2018-11-05</td>\n",
       "      <td>4.3</td>\n",
       "      <td>True</td>\n",
       "    </tr>\n",
       "    <tr>\n",
       "      <th>6</th>\n",
       "      <td>Greta</td>\n",
       "      <td>40</td>\n",
       "      <td>50000</td>\n",
       "      <td>Finance</td>\n",
       "      <td>2020-06-10</td>\n",
       "      <td>4.4</td>\n",
       "      <td>False</td>\n",
       "    </tr>\n",
       "  </tbody>\n",
       "</table>\n",
       "</div>"
      ]
     },
     "execution_count": 5,
     "metadata": {},
     "output_type": "execute_result"
    }
   ],
   "execution_count": 5
  },
  {
   "metadata": {},
   "cell_type": "markdown",
   "source": "### df[[\"col1\", \"col2\"]]: Select specific columns.",
   "id": "7ca13e933e22495a"
  },
  {
   "metadata": {
    "ExecuteTime": {
     "end_time": "2024-11-10T15:25:07.820316Z",
     "start_time": "2024-11-10T15:25:07.813138Z"
    }
   },
   "cell_type": "code",
   "source": "df['Name']",
   "id": "ddd32fd0a96c7360",
   "outputs": [
    {
     "data": {
      "text/plain": [
       "0      Alice\n",
       "1        Bob\n",
       "2    Charlie\n",
       "3      David\n",
       "4        Eva\n",
       "5      Fanny\n",
       "6      Greta\n",
       "Name: Name, dtype: object"
      ]
     },
     "execution_count": 6,
     "metadata": {},
     "output_type": "execute_result"
    }
   ],
   "execution_count": 6
  },
  {
   "metadata": {
    "ExecuteTime": {
     "end_time": "2024-11-10T15:25:08.286528Z",
     "start_time": "2024-11-10T15:25:08.273968Z"
    }
   },
   "cell_type": "code",
   "source": "df[['Name','Age','Joining_Date']]",
   "id": "a15ae1aacb3c4b9f",
   "outputs": [
    {
     "data": {
      "text/plain": [
       "      Name  Age Joining_Date\n",
       "0    Alice   24   2020-01-15\n",
       "1      Bob   30   2019-03-22\n",
       "2  Charlie   22   2021-07-30\n",
       "3    David   35   2018-11-05\n",
       "4      Eva   29   2020-06-10\n",
       "5    Fanny   25   2018-11-05\n",
       "6    Greta   40   2020-06-10"
      ],
      "text/html": [
       "<div>\n",
       "<style scoped>\n",
       "    .dataframe tbody tr th:only-of-type {\n",
       "        vertical-align: middle;\n",
       "    }\n",
       "\n",
       "    .dataframe tbody tr th {\n",
       "        vertical-align: top;\n",
       "    }\n",
       "\n",
       "    .dataframe thead th {\n",
       "        text-align: right;\n",
       "    }\n",
       "</style>\n",
       "<table border=\"1\" class=\"dataframe\">\n",
       "  <thead>\n",
       "    <tr style=\"text-align: right;\">\n",
       "      <th></th>\n",
       "      <th>Name</th>\n",
       "      <th>Age</th>\n",
       "      <th>Joining_Date</th>\n",
       "    </tr>\n",
       "  </thead>\n",
       "  <tbody>\n",
       "    <tr>\n",
       "      <th>0</th>\n",
       "      <td>Alice</td>\n",
       "      <td>24</td>\n",
       "      <td>2020-01-15</td>\n",
       "    </tr>\n",
       "    <tr>\n",
       "      <th>1</th>\n",
       "      <td>Bob</td>\n",
       "      <td>30</td>\n",
       "      <td>2019-03-22</td>\n",
       "    </tr>\n",
       "    <tr>\n",
       "      <th>2</th>\n",
       "      <td>Charlie</td>\n",
       "      <td>22</td>\n",
       "      <td>2021-07-30</td>\n",
       "    </tr>\n",
       "    <tr>\n",
       "      <th>3</th>\n",
       "      <td>David</td>\n",
       "      <td>35</td>\n",
       "      <td>2018-11-05</td>\n",
       "    </tr>\n",
       "    <tr>\n",
       "      <th>4</th>\n",
       "      <td>Eva</td>\n",
       "      <td>29</td>\n",
       "      <td>2020-06-10</td>\n",
       "    </tr>\n",
       "    <tr>\n",
       "      <th>5</th>\n",
       "      <td>Fanny</td>\n",
       "      <td>25</td>\n",
       "      <td>2018-11-05</td>\n",
       "    </tr>\n",
       "    <tr>\n",
       "      <th>6</th>\n",
       "      <td>Greta</td>\n",
       "      <td>40</td>\n",
       "      <td>2020-06-10</td>\n",
       "    </tr>\n",
       "  </tbody>\n",
       "</table>\n",
       "</div>"
      ]
     },
     "execution_count": 7,
     "metadata": {},
     "output_type": "execute_result"
    }
   ],
   "execution_count": 7
  },
  {
   "metadata": {},
   "cell_type": "markdown",
   "source": [
    "### pandas.DataFrame.iloc\n",
    "\n",
    "**property DataFrame.iloc**\n",
    "\n",
    "Purely integer-location based indexing for selection by position.\n",
    "\n",
    "*Deprecated since version 2.2.0:* Returning a tuple from a callable is deprecated.\n",
    "\n",
    "`.iloc[]` is primarily integer position based (from 0 to length-1 of the axis), but may also be used with a boolean array.\n",
    "\n",
    "#### Allowed inputs are:\n",
    "- An integer, e.g. `5`.\n",
    "- A list or array of integers, e.g. `[4, 3, 0]`.\n",
    "- A slice object with ints, e.g. `1:7`.\n",
    "- A boolean array.\n",
    "- A callable function with one argument (the calling Series or DataFrame) that returns valid output for indexing (one of the above). This is useful in method chains when you don’t have a reference to the calling object but would like to base your selection on some value.\n",
    "- A tuple of row and column indexes. The tuple elements consist of one of the above inputs, e.g. `(0, 1)`.\n",
    "\n",
    "`.iloc` will raise `IndexError` if a requested indexer is out-of-bounds, except slice indexers which allow out-of-bounds indexing (this conforms with Python/Numpy slice semantics)."
   ],
   "id": "6334dc3510a7dc3a"
  },
  {
   "metadata": {
    "ExecuteTime": {
     "end_time": "2024-11-10T15:25:08.625890Z",
     "start_time": "2024-11-10T15:25:08.610703Z"
    }
   },
   "cell_type": "code",
   "source": "df.iloc[[0,4,6]]\n",
   "id": "f893b622c8f1a5d3",
   "outputs": [
    {
     "data": {
      "text/plain": [
       "    Name  Age  Salary Department Joining_Date  Performance_Score  Is_Manager\n",
       "0  Alice   24   70000         HR   2020-01-15                3.5       False\n",
       "4    Eva   29   75000         HR   2020-06-10                4.2       False\n",
       "6  Greta   40   50000    Finance   2020-06-10                4.4       False"
      ],
      "text/html": [
       "<div>\n",
       "<style scoped>\n",
       "    .dataframe tbody tr th:only-of-type {\n",
       "        vertical-align: middle;\n",
       "    }\n",
       "\n",
       "    .dataframe tbody tr th {\n",
       "        vertical-align: top;\n",
       "    }\n",
       "\n",
       "    .dataframe thead th {\n",
       "        text-align: right;\n",
       "    }\n",
       "</style>\n",
       "<table border=\"1\" class=\"dataframe\">\n",
       "  <thead>\n",
       "    <tr style=\"text-align: right;\">\n",
       "      <th></th>\n",
       "      <th>Name</th>\n",
       "      <th>Age</th>\n",
       "      <th>Salary</th>\n",
       "      <th>Department</th>\n",
       "      <th>Joining_Date</th>\n",
       "      <th>Performance_Score</th>\n",
       "      <th>Is_Manager</th>\n",
       "    </tr>\n",
       "  </thead>\n",
       "  <tbody>\n",
       "    <tr>\n",
       "      <th>0</th>\n",
       "      <td>Alice</td>\n",
       "      <td>24</td>\n",
       "      <td>70000</td>\n",
       "      <td>HR</td>\n",
       "      <td>2020-01-15</td>\n",
       "      <td>3.5</td>\n",
       "      <td>False</td>\n",
       "    </tr>\n",
       "    <tr>\n",
       "      <th>4</th>\n",
       "      <td>Eva</td>\n",
       "      <td>29</td>\n",
       "      <td>75000</td>\n",
       "      <td>HR</td>\n",
       "      <td>2020-06-10</td>\n",
       "      <td>4.2</td>\n",
       "      <td>False</td>\n",
       "    </tr>\n",
       "    <tr>\n",
       "      <th>6</th>\n",
       "      <td>Greta</td>\n",
       "      <td>40</td>\n",
       "      <td>50000</td>\n",
       "      <td>Finance</td>\n",
       "      <td>2020-06-10</td>\n",
       "      <td>4.4</td>\n",
       "      <td>False</td>\n",
       "    </tr>\n",
       "  </tbody>\n",
       "</table>\n",
       "</div>"
      ]
     },
     "execution_count": 8,
     "metadata": {},
     "output_type": "execute_result"
    }
   ],
   "execution_count": 8
  },
  {
   "metadata": {
    "ExecuteTime": {
     "end_time": "2024-11-10T15:25:09.072525Z",
     "start_time": "2024-11-10T15:25:09.060804Z"
    }
   },
   "cell_type": "code",
   "source": "df.iloc[[1,4,3],[1,3]]",
   "id": "77a63f27021e64c2",
   "outputs": [
    {
     "data": {
      "text/plain": [
       "   Age Department\n",
       "1   30         IT\n",
       "4   29         HR\n",
       "3   35         IT"
      ],
      "text/html": [
       "<div>\n",
       "<style scoped>\n",
       "    .dataframe tbody tr th:only-of-type {\n",
       "        vertical-align: middle;\n",
       "    }\n",
       "\n",
       "    .dataframe tbody tr th {\n",
       "        vertical-align: top;\n",
       "    }\n",
       "\n",
       "    .dataframe thead th {\n",
       "        text-align: right;\n",
       "    }\n",
       "</style>\n",
       "<table border=\"1\" class=\"dataframe\">\n",
       "  <thead>\n",
       "    <tr style=\"text-align: right;\">\n",
       "      <th></th>\n",
       "      <th>Age</th>\n",
       "      <th>Department</th>\n",
       "    </tr>\n",
       "  </thead>\n",
       "  <tbody>\n",
       "    <tr>\n",
       "      <th>1</th>\n",
       "      <td>30</td>\n",
       "      <td>IT</td>\n",
       "    </tr>\n",
       "    <tr>\n",
       "      <th>4</th>\n",
       "      <td>29</td>\n",
       "      <td>HR</td>\n",
       "    </tr>\n",
       "    <tr>\n",
       "      <th>3</th>\n",
       "      <td>35</td>\n",
       "      <td>IT</td>\n",
       "    </tr>\n",
       "  </tbody>\n",
       "</table>\n",
       "</div>"
      ]
     },
     "execution_count": 9,
     "metadata": {},
     "output_type": "execute_result"
    }
   ],
   "execution_count": 9
  },
  {
   "metadata": {
    "ExecuteTime": {
     "end_time": "2024-11-10T15:25:09.350874Z",
     "start_time": "2024-11-10T15:25:09.339660Z"
    }
   },
   "cell_type": "code",
   "source": "df.iloc[:3,3:]",
   "id": "b1cbe5ba80982eb2",
   "outputs": [
    {
     "data": {
      "text/plain": [
       "  Department Joining_Date  Performance_Score  Is_Manager\n",
       "0         HR   2020-01-15                3.5       False\n",
       "1         IT   2019-03-22                4.0        True\n",
       "2    Finance   2021-07-30                3.8       False"
      ],
      "text/html": [
       "<div>\n",
       "<style scoped>\n",
       "    .dataframe tbody tr th:only-of-type {\n",
       "        vertical-align: middle;\n",
       "    }\n",
       "\n",
       "    .dataframe tbody tr th {\n",
       "        vertical-align: top;\n",
       "    }\n",
       "\n",
       "    .dataframe thead th {\n",
       "        text-align: right;\n",
       "    }\n",
       "</style>\n",
       "<table border=\"1\" class=\"dataframe\">\n",
       "  <thead>\n",
       "    <tr style=\"text-align: right;\">\n",
       "      <th></th>\n",
       "      <th>Department</th>\n",
       "      <th>Joining_Date</th>\n",
       "      <th>Performance_Score</th>\n",
       "      <th>Is_Manager</th>\n",
       "    </tr>\n",
       "  </thead>\n",
       "  <tbody>\n",
       "    <tr>\n",
       "      <th>0</th>\n",
       "      <td>HR</td>\n",
       "      <td>2020-01-15</td>\n",
       "      <td>3.5</td>\n",
       "      <td>False</td>\n",
       "    </tr>\n",
       "    <tr>\n",
       "      <th>1</th>\n",
       "      <td>IT</td>\n",
       "      <td>2019-03-22</td>\n",
       "      <td>4.0</td>\n",
       "      <td>True</td>\n",
       "    </tr>\n",
       "    <tr>\n",
       "      <th>2</th>\n",
       "      <td>Finance</td>\n",
       "      <td>2021-07-30</td>\n",
       "      <td>3.8</td>\n",
       "      <td>False</td>\n",
       "    </tr>\n",
       "  </tbody>\n",
       "</table>\n",
       "</div>"
      ]
     },
     "execution_count": 10,
     "metadata": {},
     "output_type": "execute_result"
    }
   ],
   "execution_count": 10
  },
  {
   "metadata": {
    "ExecuteTime": {
     "end_time": "2024-11-10T15:25:09.763765Z",
     "start_time": "2024-11-10T15:25:09.752115Z"
    }
   },
   "cell_type": "code",
   "source": "df.iloc[:, lambda df: [0, 2]]",
   "id": "ba3cc352062cec8a",
   "outputs": [
    {
     "data": {
      "text/plain": [
       "      Name  Salary\n",
       "0    Alice   70000\n",
       "1      Bob   80000\n",
       "2  Charlie   65000\n",
       "3    David   90000\n",
       "4      Eva   75000\n",
       "5    Fanny   85000\n",
       "6    Greta   50000"
      ],
      "text/html": [
       "<div>\n",
       "<style scoped>\n",
       "    .dataframe tbody tr th:only-of-type {\n",
       "        vertical-align: middle;\n",
       "    }\n",
       "\n",
       "    .dataframe tbody tr th {\n",
       "        vertical-align: top;\n",
       "    }\n",
       "\n",
       "    .dataframe thead th {\n",
       "        text-align: right;\n",
       "    }\n",
       "</style>\n",
       "<table border=\"1\" class=\"dataframe\">\n",
       "  <thead>\n",
       "    <tr style=\"text-align: right;\">\n",
       "      <th></th>\n",
       "      <th>Name</th>\n",
       "      <th>Salary</th>\n",
       "    </tr>\n",
       "  </thead>\n",
       "  <tbody>\n",
       "    <tr>\n",
       "      <th>0</th>\n",
       "      <td>Alice</td>\n",
       "      <td>70000</td>\n",
       "    </tr>\n",
       "    <tr>\n",
       "      <th>1</th>\n",
       "      <td>Bob</td>\n",
       "      <td>80000</td>\n",
       "    </tr>\n",
       "    <tr>\n",
       "      <th>2</th>\n",
       "      <td>Charlie</td>\n",
       "      <td>65000</td>\n",
       "    </tr>\n",
       "    <tr>\n",
       "      <th>3</th>\n",
       "      <td>David</td>\n",
       "      <td>90000</td>\n",
       "    </tr>\n",
       "    <tr>\n",
       "      <th>4</th>\n",
       "      <td>Eva</td>\n",
       "      <td>75000</td>\n",
       "    </tr>\n",
       "    <tr>\n",
       "      <th>5</th>\n",
       "      <td>Fanny</td>\n",
       "      <td>85000</td>\n",
       "    </tr>\n",
       "    <tr>\n",
       "      <th>6</th>\n",
       "      <td>Greta</td>\n",
       "      <td>50000</td>\n",
       "    </tr>\n",
       "  </tbody>\n",
       "</table>\n",
       "</div>"
      ]
     },
     "execution_count": 11,
     "metadata": {},
     "output_type": "execute_result"
    }
   ],
   "execution_count": 11
  },
  {
   "metadata": {},
   "cell_type": "markdown",
   "source": [
    "### pandas.DataFrame.loc\n",
    "\n",
    "**property DataFrame.loc**\n",
    "\n",
    "Access a group of rows and columns by label(s) or a boolean array.\n",
    "\n",
    "`.loc[]` is primarily label based, but may also be used with a boolean array.\n",
    "\n",
    "#### Allowed inputs are:\n",
    "- A single label, e.g. `5` or `'a'`, (note that `5` is interpreted as a label of the index, and never as an integer position along the index).\n",
    "- A list or array of labels, e.g. `['a', 'b', 'c']`.\n",
    "- A slice object with labels, e.g. `'a':'f'`.  \n",
    "  **Warning:** Note that contrary to usual Python slices, both the start and the stop are included.\n",
    "- A boolean array of the same length as the axis being sliced, e.g. `[True, False, True]`.\n",
    "- An alignable boolean Series. The index of the key will be aligned before masking.\n",
    "- An alignable Index. The Index of the returned selection will be the input.\n",
    "- A callable function with one argument (the calling Series or DataFrame) that returns valid output for indexing (one of the above).\n",
    "\n",
    "\n",
    "#### Raises:\n",
    "- **KeyError**  \n",
    "  If any items are not found.\n",
    "  \n",
    "- **IndexingError**  \n",
    "  If an indexed key is passed and its index is unalignable to the frame index."
   ],
   "id": "5f9c9af19f6a821e"
  },
  {
   "metadata": {
    "ExecuteTime": {
     "end_time": "2024-11-10T15:26:54.388018Z",
     "start_time": "2024-11-10T15:26:54.378309Z"
    }
   },
   "cell_type": "code",
   "source": "df.iloc[1]",
   "id": "2a1485677aff001c",
   "outputs": [
    {
     "data": {
      "text/plain": [
       "Name                                 Bob\n",
       "Age                                   30\n",
       "Salary                             80000\n",
       "Department                            IT\n",
       "Joining_Date         2019-03-22 00:00:00\n",
       "Performance_Score                    4.0\n",
       "Is_Manager                          True\n",
       "Name: 1, dtype: object"
      ]
     },
     "execution_count": 21,
     "metadata": {},
     "output_type": "execute_result"
    }
   ],
   "execution_count": 21
  },
  {
   "metadata": {
    "ExecuteTime": {
     "end_time": "2024-11-10T15:32:22.205049Z",
     "start_time": "2024-11-10T15:32:22.197407Z"
    }
   },
   "cell_type": "code",
   "source": [
    "df1=df.copy()\n",
    "df1.index=['a','b','c','d','e','f','j']"
   ],
   "id": "2eb24da6f7a427e4",
   "outputs": [],
   "execution_count": 28
  },
  {
   "metadata": {
    "ExecuteTime": {
     "end_time": "2024-11-10T15:32:24.873092Z",
     "start_time": "2024-11-10T15:32:24.865477Z"
    }
   },
   "cell_type": "code",
   "source": "df1.loc['a']",
   "id": "96f01d6ed7248561",
   "outputs": [
    {
     "data": {
      "text/plain": [
       "Name                               Alice\n",
       "Age                                   24\n",
       "Salary                             70000\n",
       "Department                            HR\n",
       "Joining_Date         2020-01-15 00:00:00\n",
       "Performance_Score                    3.5\n",
       "Is_Manager                         False\n",
       "Name: a, dtype: object"
      ]
     },
     "execution_count": 29,
     "metadata": {},
     "output_type": "execute_result"
    }
   ],
   "execution_count": 29
  },
  {
   "metadata": {
    "ExecuteTime": {
     "end_time": "2024-11-10T15:35:34.645013Z",
     "start_time": "2024-11-10T15:35:34.631377Z"
    }
   },
   "cell_type": "code",
   "source": "df.loc[:,['Name','Age']]",
   "id": "e98fb9996b4b1ace",
   "outputs": [
    {
     "data": {
      "text/plain": [
       "      Name  Age\n",
       "0    Alice   24\n",
       "1      Bob   30\n",
       "2  Charlie   22\n",
       "3    David   35\n",
       "4      Eva   29\n",
       "5    Fanny   25\n",
       "6    Greta   40"
      ],
      "text/html": [
       "<div>\n",
       "<style scoped>\n",
       "    .dataframe tbody tr th:only-of-type {\n",
       "        vertical-align: middle;\n",
       "    }\n",
       "\n",
       "    .dataframe tbody tr th {\n",
       "        vertical-align: top;\n",
       "    }\n",
       "\n",
       "    .dataframe thead th {\n",
       "        text-align: right;\n",
       "    }\n",
       "</style>\n",
       "<table border=\"1\" class=\"dataframe\">\n",
       "  <thead>\n",
       "    <tr style=\"text-align: right;\">\n",
       "      <th></th>\n",
       "      <th>Name</th>\n",
       "      <th>Age</th>\n",
       "    </tr>\n",
       "  </thead>\n",
       "  <tbody>\n",
       "    <tr>\n",
       "      <th>0</th>\n",
       "      <td>Alice</td>\n",
       "      <td>24</td>\n",
       "    </tr>\n",
       "    <tr>\n",
       "      <th>1</th>\n",
       "      <td>Bob</td>\n",
       "      <td>30</td>\n",
       "    </tr>\n",
       "    <tr>\n",
       "      <th>2</th>\n",
       "      <td>Charlie</td>\n",
       "      <td>22</td>\n",
       "    </tr>\n",
       "    <tr>\n",
       "      <th>3</th>\n",
       "      <td>David</td>\n",
       "      <td>35</td>\n",
       "    </tr>\n",
       "    <tr>\n",
       "      <th>4</th>\n",
       "      <td>Eva</td>\n",
       "      <td>29</td>\n",
       "    </tr>\n",
       "    <tr>\n",
       "      <th>5</th>\n",
       "      <td>Fanny</td>\n",
       "      <td>25</td>\n",
       "    </tr>\n",
       "    <tr>\n",
       "      <th>6</th>\n",
       "      <td>Greta</td>\n",
       "      <td>40</td>\n",
       "    </tr>\n",
       "  </tbody>\n",
       "</table>\n",
       "</div>"
      ]
     },
     "execution_count": 33,
     "metadata": {},
     "output_type": "execute_result"
    }
   ],
   "execution_count": 33
  },
  {
   "metadata": {
    "ExecuteTime": {
     "end_time": "2024-11-10T15:32:28.214149Z",
     "start_time": "2024-11-10T15:32:28.198747Z"
    }
   },
   "cell_type": "code",
   "outputs": [
    {
     "data": {
      "text/plain": [
       "    Name  Age Department\n",
       "a  Alice   24         HR\n",
       "b    Bob   30         IT"
      ],
      "text/html": [
       "<div>\n",
       "<style scoped>\n",
       "    .dataframe tbody tr th:only-of-type {\n",
       "        vertical-align: middle;\n",
       "    }\n",
       "\n",
       "    .dataframe tbody tr th {\n",
       "        vertical-align: top;\n",
       "    }\n",
       "\n",
       "    .dataframe thead th {\n",
       "        text-align: right;\n",
       "    }\n",
       "</style>\n",
       "<table border=\"1\" class=\"dataframe\">\n",
       "  <thead>\n",
       "    <tr style=\"text-align: right;\">\n",
       "      <th></th>\n",
       "      <th>Name</th>\n",
       "      <th>Age</th>\n",
       "      <th>Department</th>\n",
       "    </tr>\n",
       "  </thead>\n",
       "  <tbody>\n",
       "    <tr>\n",
       "      <th>a</th>\n",
       "      <td>Alice</td>\n",
       "      <td>24</td>\n",
       "      <td>HR</td>\n",
       "    </tr>\n",
       "    <tr>\n",
       "      <th>b</th>\n",
       "      <td>Bob</td>\n",
       "      <td>30</td>\n",
       "      <td>IT</td>\n",
       "    </tr>\n",
       "  </tbody>\n",
       "</table>\n",
       "</div>"
      ]
     },
     "execution_count": 30,
     "metadata": {},
     "output_type": "execute_result"
    }
   ],
   "execution_count": 30,
   "source": "df1.loc[['a','b'],['Name','Age','Department']]",
   "id": "aa9f6f577a253036"
  },
  {
   "metadata": {},
   "cell_type": "markdown",
   "source": "### `df[df[\"column\"] > value]`: Filter data by column value.",
   "id": "1a3082de8c4d9db0"
  },
  {
   "metadata": {
    "ExecuteTime": {
     "end_time": "2024-11-10T15:35:59.101691Z",
     "start_time": "2024-11-10T15:35:59.075015Z"
    }
   },
   "cell_type": "code",
   "source": "df[df['Age']>30]",
   "id": "221c2ae29fb901b8",
   "outputs": [
    {
     "data": {
      "text/plain": [
       "    Name  Age  Salary Department Joining_Date  Performance_Score  Is_Manager\n",
       "3  David   35   90000         IT   2018-11-05                4.5        True\n",
       "6  Greta   40   50000    Finance   2020-06-10                4.4       False"
      ],
      "text/html": [
       "<div>\n",
       "<style scoped>\n",
       "    .dataframe tbody tr th:only-of-type {\n",
       "        vertical-align: middle;\n",
       "    }\n",
       "\n",
       "    .dataframe tbody tr th {\n",
       "        vertical-align: top;\n",
       "    }\n",
       "\n",
       "    .dataframe thead th {\n",
       "        text-align: right;\n",
       "    }\n",
       "</style>\n",
       "<table border=\"1\" class=\"dataframe\">\n",
       "  <thead>\n",
       "    <tr style=\"text-align: right;\">\n",
       "      <th></th>\n",
       "      <th>Name</th>\n",
       "      <th>Age</th>\n",
       "      <th>Salary</th>\n",
       "      <th>Department</th>\n",
       "      <th>Joining_Date</th>\n",
       "      <th>Performance_Score</th>\n",
       "      <th>Is_Manager</th>\n",
       "    </tr>\n",
       "  </thead>\n",
       "  <tbody>\n",
       "    <tr>\n",
       "      <th>3</th>\n",
       "      <td>David</td>\n",
       "      <td>35</td>\n",
       "      <td>90000</td>\n",
       "      <td>IT</td>\n",
       "      <td>2018-11-05</td>\n",
       "      <td>4.5</td>\n",
       "      <td>True</td>\n",
       "    </tr>\n",
       "    <tr>\n",
       "      <th>6</th>\n",
       "      <td>Greta</td>\n",
       "      <td>40</td>\n",
       "      <td>50000</td>\n",
       "      <td>Finance</td>\n",
       "      <td>2020-06-10</td>\n",
       "      <td>4.4</td>\n",
       "      <td>False</td>\n",
       "    </tr>\n",
       "  </tbody>\n",
       "</table>\n",
       "</div>"
      ]
     },
     "execution_count": 34,
     "metadata": {},
     "output_type": "execute_result"
    }
   ],
   "execution_count": 34
  },
  {
   "metadata": {},
   "cell_type": "markdown",
   "source": "### The word \"&\" means that both conditions must be met.",
   "id": "c0c5a0f694624b53"
  },
  {
   "metadata": {
    "ExecuteTime": {
     "end_time": "2024-11-10T15:37:46.997495Z",
     "start_time": "2024-11-10T15:37:46.979045Z"
    }
   },
   "cell_type": "code",
   "source": "df[(df['Age']>20) & (df['Is_Manager']==False)]",
   "id": "b0b4f7f9f3b529e1",
   "outputs": [
    {
     "data": {
      "text/plain": [
       "      Name  Age  Salary Department Joining_Date  Performance_Score  Is_Manager\n",
       "0    Alice   24   70000         HR   2020-01-15                3.5       False\n",
       "2  Charlie   22   65000    Finance   2021-07-30                3.8       False\n",
       "4      Eva   29   75000         HR   2020-06-10                4.2       False\n",
       "6    Greta   40   50000    Finance   2020-06-10                4.4       False"
      ],
      "text/html": [
       "<div>\n",
       "<style scoped>\n",
       "    .dataframe tbody tr th:only-of-type {\n",
       "        vertical-align: middle;\n",
       "    }\n",
       "\n",
       "    .dataframe tbody tr th {\n",
       "        vertical-align: top;\n",
       "    }\n",
       "\n",
       "    .dataframe thead th {\n",
       "        text-align: right;\n",
       "    }\n",
       "</style>\n",
       "<table border=\"1\" class=\"dataframe\">\n",
       "  <thead>\n",
       "    <tr style=\"text-align: right;\">\n",
       "      <th></th>\n",
       "      <th>Name</th>\n",
       "      <th>Age</th>\n",
       "      <th>Salary</th>\n",
       "      <th>Department</th>\n",
       "      <th>Joining_Date</th>\n",
       "      <th>Performance_Score</th>\n",
       "      <th>Is_Manager</th>\n",
       "    </tr>\n",
       "  </thead>\n",
       "  <tbody>\n",
       "    <tr>\n",
       "      <th>0</th>\n",
       "      <td>Alice</td>\n",
       "      <td>24</td>\n",
       "      <td>70000</td>\n",
       "      <td>HR</td>\n",
       "      <td>2020-01-15</td>\n",
       "      <td>3.5</td>\n",
       "      <td>False</td>\n",
       "    </tr>\n",
       "    <tr>\n",
       "      <th>2</th>\n",
       "      <td>Charlie</td>\n",
       "      <td>22</td>\n",
       "      <td>65000</td>\n",
       "      <td>Finance</td>\n",
       "      <td>2021-07-30</td>\n",
       "      <td>3.8</td>\n",
       "      <td>False</td>\n",
       "    </tr>\n",
       "    <tr>\n",
       "      <th>4</th>\n",
       "      <td>Eva</td>\n",
       "      <td>29</td>\n",
       "      <td>75000</td>\n",
       "      <td>HR</td>\n",
       "      <td>2020-06-10</td>\n",
       "      <td>4.2</td>\n",
       "      <td>False</td>\n",
       "    </tr>\n",
       "    <tr>\n",
       "      <th>6</th>\n",
       "      <td>Greta</td>\n",
       "      <td>40</td>\n",
       "      <td>50000</td>\n",
       "      <td>Finance</td>\n",
       "      <td>2020-06-10</td>\n",
       "      <td>4.4</td>\n",
       "      <td>False</td>\n",
       "    </tr>\n",
       "  </tbody>\n",
       "</table>\n",
       "</div>"
      ]
     },
     "execution_count": 39,
     "metadata": {},
     "output_type": "execute_result"
    }
   ],
   "execution_count": 39
  },
  {
   "metadata": {
    "ExecuteTime": {
     "end_time": "2024-11-10T15:37:31.899915Z",
     "start_time": "2024-11-10T15:37:31.886705Z"
    }
   },
   "cell_type": "code",
   "source": "df",
   "id": "1470cf3ec6cc669f",
   "outputs": [
    {
     "data": {
      "text/plain": [
       "      Name  Age  Salary Department Joining_Date  Performance_Score  Is_Manager\n",
       "0    Alice   24   70000         HR   2020-01-15                3.5       False\n",
       "1      Bob   30   80000         IT   2019-03-22                4.0        True\n",
       "2  Charlie   22   65000    Finance   2021-07-30                3.8       False\n",
       "3    David   35   90000         IT   2018-11-05                4.5        True\n",
       "4      Eva   29   75000         HR   2020-06-10                4.2       False\n",
       "5    Fanny   25   85000         IT   2018-11-05                4.3        True\n",
       "6    Greta   40   50000    Finance   2020-06-10                4.4       False"
      ],
      "text/html": [
       "<div>\n",
       "<style scoped>\n",
       "    .dataframe tbody tr th:only-of-type {\n",
       "        vertical-align: middle;\n",
       "    }\n",
       "\n",
       "    .dataframe tbody tr th {\n",
       "        vertical-align: top;\n",
       "    }\n",
       "\n",
       "    .dataframe thead th {\n",
       "        text-align: right;\n",
       "    }\n",
       "</style>\n",
       "<table border=\"1\" class=\"dataframe\">\n",
       "  <thead>\n",
       "    <tr style=\"text-align: right;\">\n",
       "      <th></th>\n",
       "      <th>Name</th>\n",
       "      <th>Age</th>\n",
       "      <th>Salary</th>\n",
       "      <th>Department</th>\n",
       "      <th>Joining_Date</th>\n",
       "      <th>Performance_Score</th>\n",
       "      <th>Is_Manager</th>\n",
       "    </tr>\n",
       "  </thead>\n",
       "  <tbody>\n",
       "    <tr>\n",
       "      <th>0</th>\n",
       "      <td>Alice</td>\n",
       "      <td>24</td>\n",
       "      <td>70000</td>\n",
       "      <td>HR</td>\n",
       "      <td>2020-01-15</td>\n",
       "      <td>3.5</td>\n",
       "      <td>False</td>\n",
       "    </tr>\n",
       "    <tr>\n",
       "      <th>1</th>\n",
       "      <td>Bob</td>\n",
       "      <td>30</td>\n",
       "      <td>80000</td>\n",
       "      <td>IT</td>\n",
       "      <td>2019-03-22</td>\n",
       "      <td>4.0</td>\n",
       "      <td>True</td>\n",
       "    </tr>\n",
       "    <tr>\n",
       "      <th>2</th>\n",
       "      <td>Charlie</td>\n",
       "      <td>22</td>\n",
       "      <td>65000</td>\n",
       "      <td>Finance</td>\n",
       "      <td>2021-07-30</td>\n",
       "      <td>3.8</td>\n",
       "      <td>False</td>\n",
       "    </tr>\n",
       "    <tr>\n",
       "      <th>3</th>\n",
       "      <td>David</td>\n",
       "      <td>35</td>\n",
       "      <td>90000</td>\n",
       "      <td>IT</td>\n",
       "      <td>2018-11-05</td>\n",
       "      <td>4.5</td>\n",
       "      <td>True</td>\n",
       "    </tr>\n",
       "    <tr>\n",
       "      <th>4</th>\n",
       "      <td>Eva</td>\n",
       "      <td>29</td>\n",
       "      <td>75000</td>\n",
       "      <td>HR</td>\n",
       "      <td>2020-06-10</td>\n",
       "      <td>4.2</td>\n",
       "      <td>False</td>\n",
       "    </tr>\n",
       "    <tr>\n",
       "      <th>5</th>\n",
       "      <td>Fanny</td>\n",
       "      <td>25</td>\n",
       "      <td>85000</td>\n",
       "      <td>IT</td>\n",
       "      <td>2018-11-05</td>\n",
       "      <td>4.3</td>\n",
       "      <td>True</td>\n",
       "    </tr>\n",
       "    <tr>\n",
       "      <th>6</th>\n",
       "      <td>Greta</td>\n",
       "      <td>40</td>\n",
       "      <td>50000</td>\n",
       "      <td>Finance</td>\n",
       "      <td>2020-06-10</td>\n",
       "      <td>4.4</td>\n",
       "      <td>False</td>\n",
       "    </tr>\n",
       "  </tbody>\n",
       "</table>\n",
       "</div>"
      ]
     },
     "execution_count": 38,
     "metadata": {},
     "output_type": "execute_result"
    }
   ],
   "execution_count": 38
  },
  {
   "metadata": {},
   "cell_type": "markdown",
   "source": "### The symbol \"|\" means \"or,\" meaning that one of the two conditions must be met.",
   "id": "dd366ceb77d69026"
  },
  {
   "metadata": {
    "ExecuteTime": {
     "end_time": "2024-11-10T15:38:08.858571Z",
     "start_time": "2024-11-10T15:38:08.837969Z"
    }
   },
   "cell_type": "code",
   "source": "df[(df['Age']>20) | (df['Is_Manager']==False)]",
   "id": "c285590852439cc2",
   "outputs": [
    {
     "data": {
      "text/plain": [
       "      Name  Age  Salary Department Joining_Date  Performance_Score  Is_Manager\n",
       "0    Alice   24   70000         HR   2020-01-15                3.5       False\n",
       "1      Bob   30   80000         IT   2019-03-22                4.0        True\n",
       "2  Charlie   22   65000    Finance   2021-07-30                3.8       False\n",
       "3    David   35   90000         IT   2018-11-05                4.5        True\n",
       "4      Eva   29   75000         HR   2020-06-10                4.2       False\n",
       "5    Fanny   25   85000         IT   2018-11-05                4.3        True\n",
       "6    Greta   40   50000    Finance   2020-06-10                4.4       False"
      ],
      "text/html": [
       "<div>\n",
       "<style scoped>\n",
       "    .dataframe tbody tr th:only-of-type {\n",
       "        vertical-align: middle;\n",
       "    }\n",
       "\n",
       "    .dataframe tbody tr th {\n",
       "        vertical-align: top;\n",
       "    }\n",
       "\n",
       "    .dataframe thead th {\n",
       "        text-align: right;\n",
       "    }\n",
       "</style>\n",
       "<table border=\"1\" class=\"dataframe\">\n",
       "  <thead>\n",
       "    <tr style=\"text-align: right;\">\n",
       "      <th></th>\n",
       "      <th>Name</th>\n",
       "      <th>Age</th>\n",
       "      <th>Salary</th>\n",
       "      <th>Department</th>\n",
       "      <th>Joining_Date</th>\n",
       "      <th>Performance_Score</th>\n",
       "      <th>Is_Manager</th>\n",
       "    </tr>\n",
       "  </thead>\n",
       "  <tbody>\n",
       "    <tr>\n",
       "      <th>0</th>\n",
       "      <td>Alice</td>\n",
       "      <td>24</td>\n",
       "      <td>70000</td>\n",
       "      <td>HR</td>\n",
       "      <td>2020-01-15</td>\n",
       "      <td>3.5</td>\n",
       "      <td>False</td>\n",
       "    </tr>\n",
       "    <tr>\n",
       "      <th>1</th>\n",
       "      <td>Bob</td>\n",
       "      <td>30</td>\n",
       "      <td>80000</td>\n",
       "      <td>IT</td>\n",
       "      <td>2019-03-22</td>\n",
       "      <td>4.0</td>\n",
       "      <td>True</td>\n",
       "    </tr>\n",
       "    <tr>\n",
       "      <th>2</th>\n",
       "      <td>Charlie</td>\n",
       "      <td>22</td>\n",
       "      <td>65000</td>\n",
       "      <td>Finance</td>\n",
       "      <td>2021-07-30</td>\n",
       "      <td>3.8</td>\n",
       "      <td>False</td>\n",
       "    </tr>\n",
       "    <tr>\n",
       "      <th>3</th>\n",
       "      <td>David</td>\n",
       "      <td>35</td>\n",
       "      <td>90000</td>\n",
       "      <td>IT</td>\n",
       "      <td>2018-11-05</td>\n",
       "      <td>4.5</td>\n",
       "      <td>True</td>\n",
       "    </tr>\n",
       "    <tr>\n",
       "      <th>4</th>\n",
       "      <td>Eva</td>\n",
       "      <td>29</td>\n",
       "      <td>75000</td>\n",
       "      <td>HR</td>\n",
       "      <td>2020-06-10</td>\n",
       "      <td>4.2</td>\n",
       "      <td>False</td>\n",
       "    </tr>\n",
       "    <tr>\n",
       "      <th>5</th>\n",
       "      <td>Fanny</td>\n",
       "      <td>25</td>\n",
       "      <td>85000</td>\n",
       "      <td>IT</td>\n",
       "      <td>2018-11-05</td>\n",
       "      <td>4.3</td>\n",
       "      <td>True</td>\n",
       "    </tr>\n",
       "    <tr>\n",
       "      <th>6</th>\n",
       "      <td>Greta</td>\n",
       "      <td>40</td>\n",
       "      <td>50000</td>\n",
       "      <td>Finance</td>\n",
       "      <td>2020-06-10</td>\n",
       "      <td>4.4</td>\n",
       "      <td>False</td>\n",
       "    </tr>\n",
       "  </tbody>\n",
       "</table>\n",
       "</div>"
      ]
     },
     "execution_count": 40,
     "metadata": {},
     "output_type": "execute_result"
    }
   ],
   "execution_count": 40
  },
  {
   "metadata": {},
   "cell_type": "markdown",
   "source": [
    "### pandas.DataFrame.at\n",
    "\n",
    "**Property**: DataFrame.at[source]\n",
    "\n",
    "**Description**: Access a single value for a row/column label pair. It is similar to `loc`, as both provide label-based lookups. Use `at` if you only need to get or set a single value in a DataFrame or Series.\n",
    "\n",
    "**Raises**:\n",
    "- **KeyError**: If getting a value and ‘label’ does not exist in a DataFrame or Series.\n",
    "- **ValueError**: If the row/column label pair is not a tuple or if any label from the pair is not a scalar for DataFrame. If the label is list-like (excluding NamedTuple) for Series."
   ],
   "id": "9ae4a9556e9888d6"
  },
  {
   "metadata": {
    "ExecuteTime": {
     "end_time": "2024-11-10T15:47:19.457961Z",
     "start_time": "2024-11-10T15:47:19.445547Z"
    }
   },
   "cell_type": "code",
   "source": "df.at[1,'Age']",
   "id": "819bddc4bfc87712",
   "outputs": [
    {
     "data": {
      "text/plain": [
       "30"
      ]
     },
     "execution_count": 41,
     "metadata": {},
     "output_type": "execute_result"
    }
   ],
   "execution_count": 41
  },
  {
   "metadata": {
    "ExecuteTime": {
     "end_time": "2024-11-10T15:49:25.869691Z",
     "start_time": "2024-11-10T15:49:25.862221Z"
    }
   },
   "cell_type": "code",
   "source": "df1.at['a','Age']",
   "id": "42cba4a4c267b8fb",
   "outputs": [
    {
     "data": {
      "text/plain": [
       "24"
      ]
     },
     "execution_count": 42,
     "metadata": {},
     "output_type": "execute_result"
    }
   ],
   "execution_count": 42
  },
  {
   "metadata": {},
   "cell_type": "markdown",
   "source": [
    "### pandas.DataFrame.iat\n",
    "\n",
    "**Property**: DataFrame.iat[source]\n",
    "\n",
    "**Description**: Access a single value for a row/column pair by integer position. It is similar to `iloc`, as both provide integer-based lookups. Use `iat` if you only need to get or set a single value in a DataFrame or Series.\n",
    "\n",
    "**Raises**:\n",
    "- **IndexError**: When the integer position is out of bounds."
   ],
   "id": "419997677b459142"
  },
  {
   "metadata": {
    "ExecuteTime": {
     "end_time": "2024-11-10T15:51:08.432391Z",
     "start_time": "2024-11-10T15:51:08.421018Z"
    }
   },
   "cell_type": "code",
   "source": "df.iat[1,1]",
   "id": "8b32068cadefc65f",
   "outputs": [
    {
     "data": {
      "text/plain": [
       "30"
      ]
     },
     "execution_count": 43,
     "metadata": {},
     "output_type": "execute_result"
    }
   ],
   "execution_count": 43
  },
  {
   "metadata": {
    "ExecuteTime": {
     "end_time": "2024-11-10T15:51:52.760655Z",
     "start_time": "2024-11-10T15:51:52.750524Z"
    }
   },
   "cell_type": "code",
   "source": "df1.iat[0,1]",
   "id": "74d237f79f8e5966",
   "outputs": [
    {
     "data": {
      "text/plain": [
       "24"
      ]
     },
     "execution_count": 47,
     "metadata": {},
     "output_type": "execute_result"
    }
   ],
   "execution_count": 47
  },
  {
   "metadata": {},
   "cell_type": "code",
   "outputs": [],
   "execution_count": null,
   "source": "",
   "id": "c4cc66fd05c3e1fa"
  }
 ],
 "metadata": {
  "kernelspec": {
   "display_name": "Python 3",
   "language": "python",
   "name": "python3"
  },
  "language_info": {
   "codemirror_mode": {
    "name": "ipython",
    "version": 2
   },
   "file_extension": ".py",
   "mimetype": "text/x-python",
   "name": "python",
   "nbconvert_exporter": "python",
   "pygments_lexer": "ipython2",
   "version": "2.7.6"
  }
 },
 "nbformat": 4,
 "nbformat_minor": 5
}
