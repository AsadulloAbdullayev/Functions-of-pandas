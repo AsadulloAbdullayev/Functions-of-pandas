{
 "cells": [
  {
   "metadata": {},
   "cell_type": "markdown",
   "source": [
    "### pandas.DataFrame.head\n",
    "\n",
    "**DataFrame.head(n=5)**\n",
    "\n",
    "Return the first n rows.\n",
    "\n",
    "This function returns the first n rows for the object based on position. It is useful for quickly testing if your object has the right type of data in it.\n",
    "\n",
    "For negative values of n, this function returns all rows except the last |n| rows, equivalent to `df[:n]`. If n is larger than the number of rows, this function returns all rows.\n",
    "\n",
    "#### Parameters:\n",
    "- **n**: `int`, default 5  \n",
    "  Number of rows to select.\n",
    "\n",
    "#### Returns:\n",
    "- **same type as caller**  \n",
    "  The first n rows of the caller object."
   ],
   "id": "704f3247e2cab6b7"
  },
  {
   "cell_type": "code",
   "id": "initial_id",
   "metadata": {
    "collapsed": true,
    "ExecuteTime": {
     "end_time": "2024-11-09T12:12:46.742628Z",
     "start_time": "2024-11-09T12:12:46.721256Z"
    }
   },
   "source": [
    "import pandas as pd \n",
    "import numpy as np\n",
    "\n",
    "# DataFrame uchun ma'lumotlar\n",
    "data = {\n",
    "    'Name': ['Alice', 'Bob', 'Charlie', 'David', 'Eva', 'Fanny', 'Greta'],\n",
    "    'Age': [24, 30, 22, 35, 29, 25, 40],\n",
    "    'Salary': [70000, 80000, 65000, 90000, 75000,85000,50000],\n",
    "    'Department': ['HR', 'IT', 'Finance', 'IT', 'HR','IT','Finance'],\n",
    "    'Joining_Date': pd.to_datetime(['2020-01-15', '2019-03-22', '2021-07-30', '2018-11-05', '2020-06-10','2018-11-05', '2020-06-10']),\n",
    "    'Performance_Score': [3.5, 4.0, 3.8, 4.5, 4.2,4.3,4.4],\n",
    "    'Is_Manager': [False, True, False, True, False,True,False]\n",
    "}\n",
    "\n",
    "# DataFrame ni yaratish\n",
    "df = pd.DataFrame(data)\n",
    "\n",
    "# DataFrame ni ko'rsatish\n",
    "print(df)"
   ],
   "outputs": [
    {
     "name": "stdout",
     "output_type": "stream",
     "text": [
      "      Name  Age  Salary Department Joining_Date  Performance_Score  Is_Manager\n",
      "0    Alice   24   70000         HR   2020-01-15                3.5       False\n",
      "1      Bob   30   80000         IT   2019-03-22                4.0        True\n",
      "2  Charlie   22   65000    Finance   2021-07-30                3.8       False\n",
      "3    David   35   90000         IT   2018-11-05                4.5        True\n",
      "4      Eva   29   75000         HR   2020-06-10                4.2       False\n",
      "5    Fanny   25   85000         IT   2018-11-05                4.3        True\n",
      "6    Greta   40   50000    Finance   2020-06-10                4.4       False\n"
     ]
    }
   ],
   "execution_count": 2
  },
  {
   "metadata": {
    "ExecuteTime": {
     "end_time": "2024-11-09T12:13:03.046756Z",
     "start_time": "2024-11-09T12:13:03.019998Z"
    }
   },
   "cell_type": "code",
   "source": "df.head()",
   "id": "e5cbc345a1c89eb",
   "outputs": [
    {
     "data": {
      "text/plain": [
       "      Name  Age  Salary Department Joining_Date  Performance_Score  Is_Manager\n",
       "0    Alice   24   70000         HR   2020-01-15                3.5       False\n",
       "1      Bob   30   80000         IT   2019-03-22                4.0        True\n",
       "2  Charlie   22   65000    Finance   2021-07-30                3.8       False\n",
       "3    David   35   90000         IT   2018-11-05                4.5        True\n",
       "4      Eva   29   75000         HR   2020-06-10                4.2       False"
      ],
      "text/html": [
       "<div>\n",
       "<style scoped>\n",
       "    .dataframe tbody tr th:only-of-type {\n",
       "        vertical-align: middle;\n",
       "    }\n",
       "\n",
       "    .dataframe tbody tr th {\n",
       "        vertical-align: top;\n",
       "    }\n",
       "\n",
       "    .dataframe thead th {\n",
       "        text-align: right;\n",
       "    }\n",
       "</style>\n",
       "<table border=\"1\" class=\"dataframe\">\n",
       "  <thead>\n",
       "    <tr style=\"text-align: right;\">\n",
       "      <th></th>\n",
       "      <th>Name</th>\n",
       "      <th>Age</th>\n",
       "      <th>Salary</th>\n",
       "      <th>Department</th>\n",
       "      <th>Joining_Date</th>\n",
       "      <th>Performance_Score</th>\n",
       "      <th>Is_Manager</th>\n",
       "    </tr>\n",
       "  </thead>\n",
       "  <tbody>\n",
       "    <tr>\n",
       "      <th>0</th>\n",
       "      <td>Alice</td>\n",
       "      <td>24</td>\n",
       "      <td>70000</td>\n",
       "      <td>HR</td>\n",
       "      <td>2020-01-15</td>\n",
       "      <td>3.5</td>\n",
       "      <td>False</td>\n",
       "    </tr>\n",
       "    <tr>\n",
       "      <th>1</th>\n",
       "      <td>Bob</td>\n",
       "      <td>30</td>\n",
       "      <td>80000</td>\n",
       "      <td>IT</td>\n",
       "      <td>2019-03-22</td>\n",
       "      <td>4.0</td>\n",
       "      <td>True</td>\n",
       "    </tr>\n",
       "    <tr>\n",
       "      <th>2</th>\n",
       "      <td>Charlie</td>\n",
       "      <td>22</td>\n",
       "      <td>65000</td>\n",
       "      <td>Finance</td>\n",
       "      <td>2021-07-30</td>\n",
       "      <td>3.8</td>\n",
       "      <td>False</td>\n",
       "    </tr>\n",
       "    <tr>\n",
       "      <th>3</th>\n",
       "      <td>David</td>\n",
       "      <td>35</td>\n",
       "      <td>90000</td>\n",
       "      <td>IT</td>\n",
       "      <td>2018-11-05</td>\n",
       "      <td>4.5</td>\n",
       "      <td>True</td>\n",
       "    </tr>\n",
       "    <tr>\n",
       "      <th>4</th>\n",
       "      <td>Eva</td>\n",
       "      <td>29</td>\n",
       "      <td>75000</td>\n",
       "      <td>HR</td>\n",
       "      <td>2020-06-10</td>\n",
       "      <td>4.2</td>\n",
       "      <td>False</td>\n",
       "    </tr>\n",
       "  </tbody>\n",
       "</table>\n",
       "</div>"
      ]
     },
     "execution_count": 3,
     "metadata": {},
     "output_type": "execute_result"
    }
   ],
   "execution_count": 3
  },
  {
   "metadata": {
    "ExecuteTime": {
     "end_time": "2024-11-09T12:13:11.956121Z",
     "start_time": "2024-11-09T12:13:11.930251Z"
    }
   },
   "cell_type": "code",
   "source": "df.head(6)",
   "id": "e56c6be3533fe47",
   "outputs": [
    {
     "data": {
      "text/plain": [
       "      Name  Age  Salary Department Joining_Date  Performance_Score  Is_Manager\n",
       "0    Alice   24   70000         HR   2020-01-15                3.5       False\n",
       "1      Bob   30   80000         IT   2019-03-22                4.0        True\n",
       "2  Charlie   22   65000    Finance   2021-07-30                3.8       False\n",
       "3    David   35   90000         IT   2018-11-05                4.5        True\n",
       "4      Eva   29   75000         HR   2020-06-10                4.2       False\n",
       "5    Fanny   25   85000         IT   2018-11-05                4.3        True"
      ],
      "text/html": [
       "<div>\n",
       "<style scoped>\n",
       "    .dataframe tbody tr th:only-of-type {\n",
       "        vertical-align: middle;\n",
       "    }\n",
       "\n",
       "    .dataframe tbody tr th {\n",
       "        vertical-align: top;\n",
       "    }\n",
       "\n",
       "    .dataframe thead th {\n",
       "        text-align: right;\n",
       "    }\n",
       "</style>\n",
       "<table border=\"1\" class=\"dataframe\">\n",
       "  <thead>\n",
       "    <tr style=\"text-align: right;\">\n",
       "      <th></th>\n",
       "      <th>Name</th>\n",
       "      <th>Age</th>\n",
       "      <th>Salary</th>\n",
       "      <th>Department</th>\n",
       "      <th>Joining_Date</th>\n",
       "      <th>Performance_Score</th>\n",
       "      <th>Is_Manager</th>\n",
       "    </tr>\n",
       "  </thead>\n",
       "  <tbody>\n",
       "    <tr>\n",
       "      <th>0</th>\n",
       "      <td>Alice</td>\n",
       "      <td>24</td>\n",
       "      <td>70000</td>\n",
       "      <td>HR</td>\n",
       "      <td>2020-01-15</td>\n",
       "      <td>3.5</td>\n",
       "      <td>False</td>\n",
       "    </tr>\n",
       "    <tr>\n",
       "      <th>1</th>\n",
       "      <td>Bob</td>\n",
       "      <td>30</td>\n",
       "      <td>80000</td>\n",
       "      <td>IT</td>\n",
       "      <td>2019-03-22</td>\n",
       "      <td>4.0</td>\n",
       "      <td>True</td>\n",
       "    </tr>\n",
       "    <tr>\n",
       "      <th>2</th>\n",
       "      <td>Charlie</td>\n",
       "      <td>22</td>\n",
       "      <td>65000</td>\n",
       "      <td>Finance</td>\n",
       "      <td>2021-07-30</td>\n",
       "      <td>3.8</td>\n",
       "      <td>False</td>\n",
       "    </tr>\n",
       "    <tr>\n",
       "      <th>3</th>\n",
       "      <td>David</td>\n",
       "      <td>35</td>\n",
       "      <td>90000</td>\n",
       "      <td>IT</td>\n",
       "      <td>2018-11-05</td>\n",
       "      <td>4.5</td>\n",
       "      <td>True</td>\n",
       "    </tr>\n",
       "    <tr>\n",
       "      <th>4</th>\n",
       "      <td>Eva</td>\n",
       "      <td>29</td>\n",
       "      <td>75000</td>\n",
       "      <td>HR</td>\n",
       "      <td>2020-06-10</td>\n",
       "      <td>4.2</td>\n",
       "      <td>False</td>\n",
       "    </tr>\n",
       "    <tr>\n",
       "      <th>5</th>\n",
       "      <td>Fanny</td>\n",
       "      <td>25</td>\n",
       "      <td>85000</td>\n",
       "      <td>IT</td>\n",
       "      <td>2018-11-05</td>\n",
       "      <td>4.3</td>\n",
       "      <td>True</td>\n",
       "    </tr>\n",
       "  </tbody>\n",
       "</table>\n",
       "</div>"
      ]
     },
     "execution_count": 4,
     "metadata": {},
     "output_type": "execute_result"
    }
   ],
   "execution_count": 4
  },
  {
   "metadata": {},
   "cell_type": "markdown",
   "source": [
    "### pandas.DataFrame.tail\n",
    "\n",
    "**DataFrame.tail(n=5)**\n",
    "\n",
    "Return the last n rows.\n",
    "\n",
    "This function returns the last n rows from the object based on position. It is useful for quickly verifying data, for example, after sorting or appending rows.\n",
    "\n",
    "For negative values of n, this function returns all rows except the first |n| rows, equivalent to `df[|n|:]`. If n is larger than the number of rows, this function returns all rows.\n",
    "\n",
    "#### Parameters:\n",
    "- **n**: `int`, default 5  \n",
    "  Number of rows to select.\n",
    "\n",
    "#### Returns:\n",
    "- **type of caller**  \n",
    "  The last n rows of the caller object."
   ],
   "id": "a19944e315c2bd9a"
  },
  {
   "metadata": {
    "ExecuteTime": {
     "end_time": "2024-11-09T12:15:05.470626Z",
     "start_time": "2024-11-09T12:15:05.449733Z"
    }
   },
   "cell_type": "code",
   "source": "df.tail()",
   "id": "7e46630c2000f049",
   "outputs": [
    {
     "data": {
      "text/plain": [
       "      Name  Age  Salary Department Joining_Date  Performance_Score  Is_Manager\n",
       "2  Charlie   22   65000    Finance   2021-07-30                3.8       False\n",
       "3    David   35   90000         IT   2018-11-05                4.5        True\n",
       "4      Eva   29   75000         HR   2020-06-10                4.2       False\n",
       "5    Fanny   25   85000         IT   2018-11-05                4.3        True\n",
       "6    Greta   40   50000    Finance   2020-06-10                4.4       False"
      ],
      "text/html": [
       "<div>\n",
       "<style scoped>\n",
       "    .dataframe tbody tr th:only-of-type {\n",
       "        vertical-align: middle;\n",
       "    }\n",
       "\n",
       "    .dataframe tbody tr th {\n",
       "        vertical-align: top;\n",
       "    }\n",
       "\n",
       "    .dataframe thead th {\n",
       "        text-align: right;\n",
       "    }\n",
       "</style>\n",
       "<table border=\"1\" class=\"dataframe\">\n",
       "  <thead>\n",
       "    <tr style=\"text-align: right;\">\n",
       "      <th></th>\n",
       "      <th>Name</th>\n",
       "      <th>Age</th>\n",
       "      <th>Salary</th>\n",
       "      <th>Department</th>\n",
       "      <th>Joining_Date</th>\n",
       "      <th>Performance_Score</th>\n",
       "      <th>Is_Manager</th>\n",
       "    </tr>\n",
       "  </thead>\n",
       "  <tbody>\n",
       "    <tr>\n",
       "      <th>2</th>\n",
       "      <td>Charlie</td>\n",
       "      <td>22</td>\n",
       "      <td>65000</td>\n",
       "      <td>Finance</td>\n",
       "      <td>2021-07-30</td>\n",
       "      <td>3.8</td>\n",
       "      <td>False</td>\n",
       "    </tr>\n",
       "    <tr>\n",
       "      <th>3</th>\n",
       "      <td>David</td>\n",
       "      <td>35</td>\n",
       "      <td>90000</td>\n",
       "      <td>IT</td>\n",
       "      <td>2018-11-05</td>\n",
       "      <td>4.5</td>\n",
       "      <td>True</td>\n",
       "    </tr>\n",
       "    <tr>\n",
       "      <th>4</th>\n",
       "      <td>Eva</td>\n",
       "      <td>29</td>\n",
       "      <td>75000</td>\n",
       "      <td>HR</td>\n",
       "      <td>2020-06-10</td>\n",
       "      <td>4.2</td>\n",
       "      <td>False</td>\n",
       "    </tr>\n",
       "    <tr>\n",
       "      <th>5</th>\n",
       "      <td>Fanny</td>\n",
       "      <td>25</td>\n",
       "      <td>85000</td>\n",
       "      <td>IT</td>\n",
       "      <td>2018-11-05</td>\n",
       "      <td>4.3</td>\n",
       "      <td>True</td>\n",
       "    </tr>\n",
       "    <tr>\n",
       "      <th>6</th>\n",
       "      <td>Greta</td>\n",
       "      <td>40</td>\n",
       "      <td>50000</td>\n",
       "      <td>Finance</td>\n",
       "      <td>2020-06-10</td>\n",
       "      <td>4.4</td>\n",
       "      <td>False</td>\n",
       "    </tr>\n",
       "  </tbody>\n",
       "</table>\n",
       "</div>"
      ]
     },
     "execution_count": 5,
     "metadata": {},
     "output_type": "execute_result"
    }
   ],
   "execution_count": 5
  },
  {
   "metadata": {
    "ExecuteTime": {
     "end_time": "2024-11-09T12:15:16.479687Z",
     "start_time": "2024-11-09T12:15:16.451316Z"
    }
   },
   "cell_type": "code",
   "source": "df.tail(6)",
   "id": "eb8c00e06f459671",
   "outputs": [
    {
     "data": {
      "text/plain": [
       "      Name  Age  Salary Department Joining_Date  Performance_Score  Is_Manager\n",
       "1      Bob   30   80000         IT   2019-03-22                4.0        True\n",
       "2  Charlie   22   65000    Finance   2021-07-30                3.8       False\n",
       "3    David   35   90000         IT   2018-11-05                4.5        True\n",
       "4      Eva   29   75000         HR   2020-06-10                4.2       False\n",
       "5    Fanny   25   85000         IT   2018-11-05                4.3        True\n",
       "6    Greta   40   50000    Finance   2020-06-10                4.4       False"
      ],
      "text/html": [
       "<div>\n",
       "<style scoped>\n",
       "    .dataframe tbody tr th:only-of-type {\n",
       "        vertical-align: middle;\n",
       "    }\n",
       "\n",
       "    .dataframe tbody tr th {\n",
       "        vertical-align: top;\n",
       "    }\n",
       "\n",
       "    .dataframe thead th {\n",
       "        text-align: right;\n",
       "    }\n",
       "</style>\n",
       "<table border=\"1\" class=\"dataframe\">\n",
       "  <thead>\n",
       "    <tr style=\"text-align: right;\">\n",
       "      <th></th>\n",
       "      <th>Name</th>\n",
       "      <th>Age</th>\n",
       "      <th>Salary</th>\n",
       "      <th>Department</th>\n",
       "      <th>Joining_Date</th>\n",
       "      <th>Performance_Score</th>\n",
       "      <th>Is_Manager</th>\n",
       "    </tr>\n",
       "  </thead>\n",
       "  <tbody>\n",
       "    <tr>\n",
       "      <th>1</th>\n",
       "      <td>Bob</td>\n",
       "      <td>30</td>\n",
       "      <td>80000</td>\n",
       "      <td>IT</td>\n",
       "      <td>2019-03-22</td>\n",
       "      <td>4.0</td>\n",
       "      <td>True</td>\n",
       "    </tr>\n",
       "    <tr>\n",
       "      <th>2</th>\n",
       "      <td>Charlie</td>\n",
       "      <td>22</td>\n",
       "      <td>65000</td>\n",
       "      <td>Finance</td>\n",
       "      <td>2021-07-30</td>\n",
       "      <td>3.8</td>\n",
       "      <td>False</td>\n",
       "    </tr>\n",
       "    <tr>\n",
       "      <th>3</th>\n",
       "      <td>David</td>\n",
       "      <td>35</td>\n",
       "      <td>90000</td>\n",
       "      <td>IT</td>\n",
       "      <td>2018-11-05</td>\n",
       "      <td>4.5</td>\n",
       "      <td>True</td>\n",
       "    </tr>\n",
       "    <tr>\n",
       "      <th>4</th>\n",
       "      <td>Eva</td>\n",
       "      <td>29</td>\n",
       "      <td>75000</td>\n",
       "      <td>HR</td>\n",
       "      <td>2020-06-10</td>\n",
       "      <td>4.2</td>\n",
       "      <td>False</td>\n",
       "    </tr>\n",
       "    <tr>\n",
       "      <th>5</th>\n",
       "      <td>Fanny</td>\n",
       "      <td>25</td>\n",
       "      <td>85000</td>\n",
       "      <td>IT</td>\n",
       "      <td>2018-11-05</td>\n",
       "      <td>4.3</td>\n",
       "      <td>True</td>\n",
       "    </tr>\n",
       "    <tr>\n",
       "      <th>6</th>\n",
       "      <td>Greta</td>\n",
       "      <td>40</td>\n",
       "      <td>50000</td>\n",
       "      <td>Finance</td>\n",
       "      <td>2020-06-10</td>\n",
       "      <td>4.4</td>\n",
       "      <td>False</td>\n",
       "    </tr>\n",
       "  </tbody>\n",
       "</table>\n",
       "</div>"
      ]
     },
     "execution_count": 6,
     "metadata": {},
     "output_type": "execute_result"
    }
   ],
   "execution_count": 6
  },
  {
   "metadata": {},
   "cell_type": "markdown",
   "source": "### df[[\"col1\", \"col2\"]]: Select specific columns.",
   "id": "7ca13e933e22495a"
  },
  {
   "metadata": {
    "ExecuteTime": {
     "end_time": "2024-11-09T12:18:18.751387Z",
     "start_time": "2024-11-09T12:18:18.729422Z"
    }
   },
   "cell_type": "code",
   "source": "df['Name']",
   "id": "ddd32fd0a96c7360",
   "outputs": [
    {
     "data": {
      "text/plain": [
       "0      Alice\n",
       "1        Bob\n",
       "2    Charlie\n",
       "3      David\n",
       "4        Eva\n",
       "5      Fanny\n",
       "6      Greta\n",
       "Name: Name, dtype: object"
      ]
     },
     "execution_count": 7,
     "metadata": {},
     "output_type": "execute_result"
    }
   ],
   "execution_count": 7
  },
  {
   "metadata": {
    "ExecuteTime": {
     "end_time": "2024-11-09T12:18:50.573894Z",
     "start_time": "2024-11-09T12:18:50.556868Z"
    }
   },
   "cell_type": "code",
   "source": "df[['Name','Age','Joining_Date']]",
   "id": "a15ae1aacb3c4b9f",
   "outputs": [
    {
     "data": {
      "text/plain": [
       "      Name  Age Joining_Date\n",
       "0    Alice   24   2020-01-15\n",
       "1      Bob   30   2019-03-22\n",
       "2  Charlie   22   2021-07-30\n",
       "3    David   35   2018-11-05\n",
       "4      Eva   29   2020-06-10\n",
       "5    Fanny   25   2018-11-05\n",
       "6    Greta   40   2020-06-10"
      ],
      "text/html": [
       "<div>\n",
       "<style scoped>\n",
       "    .dataframe tbody tr th:only-of-type {\n",
       "        vertical-align: middle;\n",
       "    }\n",
       "\n",
       "    .dataframe tbody tr th {\n",
       "        vertical-align: top;\n",
       "    }\n",
       "\n",
       "    .dataframe thead th {\n",
       "        text-align: right;\n",
       "    }\n",
       "</style>\n",
       "<table border=\"1\" class=\"dataframe\">\n",
       "  <thead>\n",
       "    <tr style=\"text-align: right;\">\n",
       "      <th></th>\n",
       "      <th>Name</th>\n",
       "      <th>Age</th>\n",
       "      <th>Joining_Date</th>\n",
       "    </tr>\n",
       "  </thead>\n",
       "  <tbody>\n",
       "    <tr>\n",
       "      <th>0</th>\n",
       "      <td>Alice</td>\n",
       "      <td>24</td>\n",
       "      <td>2020-01-15</td>\n",
       "    </tr>\n",
       "    <tr>\n",
       "      <th>1</th>\n",
       "      <td>Bob</td>\n",
       "      <td>30</td>\n",
       "      <td>2019-03-22</td>\n",
       "    </tr>\n",
       "    <tr>\n",
       "      <th>2</th>\n",
       "      <td>Charlie</td>\n",
       "      <td>22</td>\n",
       "      <td>2021-07-30</td>\n",
       "    </tr>\n",
       "    <tr>\n",
       "      <th>3</th>\n",
       "      <td>David</td>\n",
       "      <td>35</td>\n",
       "      <td>2018-11-05</td>\n",
       "    </tr>\n",
       "    <tr>\n",
       "      <th>4</th>\n",
       "      <td>Eva</td>\n",
       "      <td>29</td>\n",
       "      <td>2020-06-10</td>\n",
       "    </tr>\n",
       "    <tr>\n",
       "      <th>5</th>\n",
       "      <td>Fanny</td>\n",
       "      <td>25</td>\n",
       "      <td>2018-11-05</td>\n",
       "    </tr>\n",
       "    <tr>\n",
       "      <th>6</th>\n",
       "      <td>Greta</td>\n",
       "      <td>40</td>\n",
       "      <td>2020-06-10</td>\n",
       "    </tr>\n",
       "  </tbody>\n",
       "</table>\n",
       "</div>"
      ]
     },
     "execution_count": 8,
     "metadata": {},
     "output_type": "execute_result"
    }
   ],
   "execution_count": 8
  },
  {
   "metadata": {},
   "cell_type": "markdown",
   "source": [
    "### pandas.DataFrame.iloc\n",
    "\n",
    "**property DataFrame.iloc**\n",
    "\n",
    "Purely integer-location based indexing for selection by position.\n",
    "\n",
    "*Deprecated since version 2.2.0:* Returning a tuple from a callable is deprecated.\n",
    "\n",
    "`.iloc[]` is primarily integer position based (from 0 to length-1 of the axis), but may also be used with a boolean array.\n",
    "\n",
    "#### Allowed inputs are:\n",
    "- An integer, e.g. `5`.\n",
    "- A list or array of integers, e.g. `[4, 3, 0]`.\n",
    "- A slice object with ints, e.g. `1:7`.\n",
    "- A boolean array.\n",
    "- A callable function with one argument (the calling Series or DataFrame) that returns valid output for indexing (one of the above). This is useful in method chains when you don’t have a reference to the calling object but would like to base your selection on some value.\n",
    "- A tuple of row and column indexes. The tuple elements consist of one of the above inputs, e.g. `(0, 1)`.\n",
    "\n",
    "`.iloc` will raise `IndexError` if a requested indexer is out-of-bounds, except slice indexers which allow out-of-bounds indexing (this conforms with Python/Numpy slice semantics)."
   ],
   "id": "6334dc3510a7dc3a"
  },
  {
   "metadata": {
    "ExecuteTime": {
     "end_time": "2024-11-09T12:25:31.889392Z",
     "start_time": "2024-11-09T12:25:31.868645Z"
    }
   },
   "cell_type": "code",
   "source": "df.iloc[[0,4,6]]\n",
   "id": "f893b622c8f1a5d3",
   "outputs": [
    {
     "data": {
      "text/plain": [
       "    Name  Age  Salary Department Joining_Date  Performance_Score  Is_Manager\n",
       "0  Alice   24   70000         HR   2020-01-15                3.5       False\n",
       "4    Eva   29   75000         HR   2020-06-10                4.2       False\n",
       "6  Greta   40   50000    Finance   2020-06-10                4.4       False"
      ],
      "text/html": [
       "<div>\n",
       "<style scoped>\n",
       "    .dataframe tbody tr th:only-of-type {\n",
       "        vertical-align: middle;\n",
       "    }\n",
       "\n",
       "    .dataframe tbody tr th {\n",
       "        vertical-align: top;\n",
       "    }\n",
       "\n",
       "    .dataframe thead th {\n",
       "        text-align: right;\n",
       "    }\n",
       "</style>\n",
       "<table border=\"1\" class=\"dataframe\">\n",
       "  <thead>\n",
       "    <tr style=\"text-align: right;\">\n",
       "      <th></th>\n",
       "      <th>Name</th>\n",
       "      <th>Age</th>\n",
       "      <th>Salary</th>\n",
       "      <th>Department</th>\n",
       "      <th>Joining_Date</th>\n",
       "      <th>Performance_Score</th>\n",
       "      <th>Is_Manager</th>\n",
       "    </tr>\n",
       "  </thead>\n",
       "  <tbody>\n",
       "    <tr>\n",
       "      <th>0</th>\n",
       "      <td>Alice</td>\n",
       "      <td>24</td>\n",
       "      <td>70000</td>\n",
       "      <td>HR</td>\n",
       "      <td>2020-01-15</td>\n",
       "      <td>3.5</td>\n",
       "      <td>False</td>\n",
       "    </tr>\n",
       "    <tr>\n",
       "      <th>4</th>\n",
       "      <td>Eva</td>\n",
       "      <td>29</td>\n",
       "      <td>75000</td>\n",
       "      <td>HR</td>\n",
       "      <td>2020-06-10</td>\n",
       "      <td>4.2</td>\n",
       "      <td>False</td>\n",
       "    </tr>\n",
       "    <tr>\n",
       "      <th>6</th>\n",
       "      <td>Greta</td>\n",
       "      <td>40</td>\n",
       "      <td>50000</td>\n",
       "      <td>Finance</td>\n",
       "      <td>2020-06-10</td>\n",
       "      <td>4.4</td>\n",
       "      <td>False</td>\n",
       "    </tr>\n",
       "  </tbody>\n",
       "</table>\n",
       "</div>"
      ]
     },
     "execution_count": 17,
     "metadata": {},
     "output_type": "execute_result"
    }
   ],
   "execution_count": 17
  },
  {
   "metadata": {
    "ExecuteTime": {
     "end_time": "2024-11-09T12:26:53.355702Z",
     "start_time": "2024-11-09T12:26:53.342026Z"
    }
   },
   "cell_type": "code",
   "source": "df.iloc[[1,4,3],[1,3]]",
   "id": "77a63f27021e64c2",
   "outputs": [
    {
     "data": {
      "text/plain": [
       "   Age Department\n",
       "1   30         IT\n",
       "4   29         HR\n",
       "3   35         IT"
      ],
      "text/html": [
       "<div>\n",
       "<style scoped>\n",
       "    .dataframe tbody tr th:only-of-type {\n",
       "        vertical-align: middle;\n",
       "    }\n",
       "\n",
       "    .dataframe tbody tr th {\n",
       "        vertical-align: top;\n",
       "    }\n",
       "\n",
       "    .dataframe thead th {\n",
       "        text-align: right;\n",
       "    }\n",
       "</style>\n",
       "<table border=\"1\" class=\"dataframe\">\n",
       "  <thead>\n",
       "    <tr style=\"text-align: right;\">\n",
       "      <th></th>\n",
       "      <th>Age</th>\n",
       "      <th>Department</th>\n",
       "    </tr>\n",
       "  </thead>\n",
       "  <tbody>\n",
       "    <tr>\n",
       "      <th>1</th>\n",
       "      <td>30</td>\n",
       "      <td>IT</td>\n",
       "    </tr>\n",
       "    <tr>\n",
       "      <th>4</th>\n",
       "      <td>29</td>\n",
       "      <td>HR</td>\n",
       "    </tr>\n",
       "    <tr>\n",
       "      <th>3</th>\n",
       "      <td>35</td>\n",
       "      <td>IT</td>\n",
       "    </tr>\n",
       "  </tbody>\n",
       "</table>\n",
       "</div>"
      ]
     },
     "execution_count": 21,
     "metadata": {},
     "output_type": "execute_result"
    }
   ],
   "execution_count": 21
  },
  {
   "metadata": {
    "ExecuteTime": {
     "end_time": "2024-11-09T12:27:25.139811Z",
     "start_time": "2024-11-09T12:27:25.119983Z"
    }
   },
   "cell_type": "code",
   "source": "df.iloc[:3,3:]",
   "id": "b1cbe5ba80982eb2",
   "outputs": [
    {
     "data": {
      "text/plain": [
       "  Department Joining_Date  Performance_Score  Is_Manager\n",
       "0         HR   2020-01-15                3.5       False\n",
       "1         IT   2019-03-22                4.0        True\n",
       "2    Finance   2021-07-30                3.8       False"
      ],
      "text/html": [
       "<div>\n",
       "<style scoped>\n",
       "    .dataframe tbody tr th:only-of-type {\n",
       "        vertical-align: middle;\n",
       "    }\n",
       "\n",
       "    .dataframe tbody tr th {\n",
       "        vertical-align: top;\n",
       "    }\n",
       "\n",
       "    .dataframe thead th {\n",
       "        text-align: right;\n",
       "    }\n",
       "</style>\n",
       "<table border=\"1\" class=\"dataframe\">\n",
       "  <thead>\n",
       "    <tr style=\"text-align: right;\">\n",
       "      <th></th>\n",
       "      <th>Department</th>\n",
       "      <th>Joining_Date</th>\n",
       "      <th>Performance_Score</th>\n",
       "      <th>Is_Manager</th>\n",
       "    </tr>\n",
       "  </thead>\n",
       "  <tbody>\n",
       "    <tr>\n",
       "      <th>0</th>\n",
       "      <td>HR</td>\n",
       "      <td>2020-01-15</td>\n",
       "      <td>3.5</td>\n",
       "      <td>False</td>\n",
       "    </tr>\n",
       "    <tr>\n",
       "      <th>1</th>\n",
       "      <td>IT</td>\n",
       "      <td>2019-03-22</td>\n",
       "      <td>4.0</td>\n",
       "      <td>True</td>\n",
       "    </tr>\n",
       "    <tr>\n",
       "      <th>2</th>\n",
       "      <td>Finance</td>\n",
       "      <td>2021-07-30</td>\n",
       "      <td>3.8</td>\n",
       "      <td>False</td>\n",
       "    </tr>\n",
       "  </tbody>\n",
       "</table>\n",
       "</div>"
      ]
     },
     "execution_count": 22,
     "metadata": {},
     "output_type": "execute_result"
    }
   ],
   "execution_count": 22
  },
  {
   "metadata": {
    "ExecuteTime": {
     "end_time": "2024-11-09T12:28:19.646245Z",
     "start_time": "2024-11-09T12:28:19.625767Z"
    }
   },
   "cell_type": "code",
   "source": "df.iloc[:, lambda df: [0, 2]]",
   "id": "ba3cc352062cec8a",
   "outputs": [
    {
     "data": {
      "text/plain": [
       "      Name  Salary\n",
       "0    Alice   70000\n",
       "1      Bob   80000\n",
       "2  Charlie   65000\n",
       "3    David   90000\n",
       "4      Eva   75000\n",
       "5    Fanny   85000\n",
       "6    Greta   50000"
      ],
      "text/html": [
       "<div>\n",
       "<style scoped>\n",
       "    .dataframe tbody tr th:only-of-type {\n",
       "        vertical-align: middle;\n",
       "    }\n",
       "\n",
       "    .dataframe tbody tr th {\n",
       "        vertical-align: top;\n",
       "    }\n",
       "\n",
       "    .dataframe thead th {\n",
       "        text-align: right;\n",
       "    }\n",
       "</style>\n",
       "<table border=\"1\" class=\"dataframe\">\n",
       "  <thead>\n",
       "    <tr style=\"text-align: right;\">\n",
       "      <th></th>\n",
       "      <th>Name</th>\n",
       "      <th>Salary</th>\n",
       "    </tr>\n",
       "  </thead>\n",
       "  <tbody>\n",
       "    <tr>\n",
       "      <th>0</th>\n",
       "      <td>Alice</td>\n",
       "      <td>70000</td>\n",
       "    </tr>\n",
       "    <tr>\n",
       "      <th>1</th>\n",
       "      <td>Bob</td>\n",
       "      <td>80000</td>\n",
       "    </tr>\n",
       "    <tr>\n",
       "      <th>2</th>\n",
       "      <td>Charlie</td>\n",
       "      <td>65000</td>\n",
       "    </tr>\n",
       "    <tr>\n",
       "      <th>3</th>\n",
       "      <td>David</td>\n",
       "      <td>90000</td>\n",
       "    </tr>\n",
       "    <tr>\n",
       "      <th>4</th>\n",
       "      <td>Eva</td>\n",
       "      <td>75000</td>\n",
       "    </tr>\n",
       "    <tr>\n",
       "      <th>5</th>\n",
       "      <td>Fanny</td>\n",
       "      <td>85000</td>\n",
       "    </tr>\n",
       "    <tr>\n",
       "      <th>6</th>\n",
       "      <td>Greta</td>\n",
       "      <td>50000</td>\n",
       "    </tr>\n",
       "  </tbody>\n",
       "</table>\n",
       "</div>"
      ]
     },
     "execution_count": 23,
     "metadata": {},
     "output_type": "execute_result"
    }
   ],
   "execution_count": 23
  },
  {
   "metadata": {},
   "cell_type": "markdown",
   "source": [
    "### pandas.DataFrame.loc\n",
    "\n",
    "**property DataFrame.loc**\n",
    "\n",
    "Access a group of rows and columns by label(s) or a boolean array.\n",
    "\n",
    "`.loc[]` is primarily label based, but may also be used with a boolean array.\n",
    "\n",
    "#### Allowed inputs are:\n",
    "- A single label, e.g. `5` or `'a'`, (note that `5` is interpreted as a label of the index, and never as an integer position along the index).\n",
    "- A list or array of labels, e.g. `['a', 'b', 'c']`.\n",
    "- A slice object with labels, e.g. `'a':'f'`.  \n",
    "  **Warning:** Note that contrary to usual Python slices, both the start and the stop are included.\n",
    "- A boolean array of the same length as the axis being sliced, e.g. `[True, False, True]`.\n",
    "- An alignable boolean Series. The index of the key will be aligned before masking.\n",
    "- An alignable Index. The Index of the returned selection will be the input.\n",
    "- A callable function with one argument (the calling Series or DataFrame) that returns valid output for indexing (one of the above).\n",
    "\n",
    "\n",
    "#### Raises:\n",
    "- **KeyError**  \n",
    "  If any items are not found.\n",
    "  \n",
    "- **IndexingError**  \n",
    "  If an indexed key is passed and its index is unalignable to the frame index."
   ],
   "id": "5f9c9af19f6a821e"
  },
  {
   "metadata": {
    "ExecuteTime": {
     "end_time": "2024-11-09T12:32:18.639431Z",
     "start_time": "2024-11-09T12:32:18.621227Z"
    }
   },
   "cell_type": "code",
   "source": "df.iloc[1]",
   "id": "2a1485677aff001c",
   "outputs": [
    {
     "data": {
      "text/plain": [
       "Name                                 Bob\n",
       "Age                                   30\n",
       "Salary                             80000\n",
       "Department                            IT\n",
       "Joining_Date         2019-03-22 00:00:00\n",
       "Performance_Score                    4.0\n",
       "Is_Manager                          True\n",
       "Name: 1, dtype: object"
      ]
     },
     "execution_count": 26,
     "metadata": {},
     "output_type": "execute_result"
    }
   ],
   "execution_count": 26
  },
  {
   "metadata": {
    "ExecuteTime": {
     "end_time": "2024-11-09T12:40:31.378929Z",
     "start_time": "2024-11-09T12:40:31.369756Z"
    }
   },
   "cell_type": "code",
   "source": "df1=df.reindex(['a','b','c','d','e','f','j'])",
   "id": "2eb24da6f7a427e4",
   "outputs": [],
   "execution_count": 30
  },
  {
   "metadata": {
    "ExecuteTime": {
     "end_time": "2024-11-09T12:41:16.444102Z",
     "start_time": "2024-11-09T12:41:16.417807Z"
    }
   },
   "cell_type": "code",
   "source": "df1.loc['a']",
   "id": "96f01d6ed7248561",
   "outputs": [
    {
     "data": {
      "text/plain": [
       "Name                               Alice\n",
       "Age                                   24\n",
       "Salary                             70000\n",
       "Department                            HR\n",
       "Joining_Date         2020-01-15 00:00:00\n",
       "Performance_Score                    3.5\n",
       "Is_Manager                         False\n",
       "Name: a, dtype: object"
      ]
     },
     "execution_count": 35,
     "metadata": {},
     "output_type": "execute_result"
    }
   ],
   "execution_count": 35
  },
  {
   "metadata": {
    "ExecuteTime": {
     "end_time": "2024-11-09T12:41:56.495282Z",
     "start_time": "2024-11-09T12:41:56.473674Z"
    }
   },
   "cell_type": "code",
   "source": "df.loc[['a','b'],['Name','Age','Department']]",
   "id": "aa9f6f577a253036",
   "outputs": [
    {
     "data": {
      "text/plain": [
       "    Name  Age Department\n",
       "a  Alice   24         HR\n",
       "b    Bob   30         IT"
      ],
      "text/html": [
       "<div>\n",
       "<style scoped>\n",
       "    .dataframe tbody tr th:only-of-type {\n",
       "        vertical-align: middle;\n",
       "    }\n",
       "\n",
       "    .dataframe tbody tr th {\n",
       "        vertical-align: top;\n",
       "    }\n",
       "\n",
       "    .dataframe thead th {\n",
       "        text-align: right;\n",
       "    }\n",
       "</style>\n",
       "<table border=\"1\" class=\"dataframe\">\n",
       "  <thead>\n",
       "    <tr style=\"text-align: right;\">\n",
       "      <th></th>\n",
       "      <th>Name</th>\n",
       "      <th>Age</th>\n",
       "      <th>Department</th>\n",
       "    </tr>\n",
       "  </thead>\n",
       "  <tbody>\n",
       "    <tr>\n",
       "      <th>a</th>\n",
       "      <td>Alice</td>\n",
       "      <td>24</td>\n",
       "      <td>HR</td>\n",
       "    </tr>\n",
       "    <tr>\n",
       "      <th>b</th>\n",
       "      <td>Bob</td>\n",
       "      <td>30</td>\n",
       "      <td>IT</td>\n",
       "    </tr>\n",
       "  </tbody>\n",
       "</table>\n",
       "</div>"
      ]
     },
     "execution_count": 36,
     "metadata": {},
     "output_type": "execute_result"
    }
   ],
   "execution_count": 36
  },
  {
   "metadata": {},
   "cell_type": "code",
   "outputs": [],
   "execution_count": null,
   "source": "",
   "id": "e98fb9996b4b1ace"
  }
 ],
 "metadata": {
  "kernelspec": {
   "display_name": "Python 3",
   "language": "python",
   "name": "python3"
  },
  "language_info": {
   "codemirror_mode": {
    "name": "ipython",
    "version": 2
   },
   "file_extension": ".py",
   "mimetype": "text/x-python",
   "name": "python",
   "nbconvert_exporter": "python",
   "pygments_lexer": "ipython2",
   "version": "2.7.6"
  }
 },
 "nbformat": 4,
 "nbformat_minor": 5
}
