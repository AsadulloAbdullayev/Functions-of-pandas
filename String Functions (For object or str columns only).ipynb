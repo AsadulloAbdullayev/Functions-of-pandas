{
 "cells": [
  {
   "metadata": {},
   "cell_type": "markdown",
   "source": [
    "# String Functions (For object or str columns only)\n",
    "- `df['column'].str.contains()`: Check if a specific value exists.\n",
    "- `df['column'].str.startswith(), df['column'].str.endswith()`: Check if text starts or ends with a specific value.\n",
    "- `df['column'].str.lower(), df['column'].str.upper()`: Convert text to lower or upper case.\n",
    "- `df['column'].str.replace()`: Replace specified values.\n",
    "- `df['column'].str.split()`: Split text by a specified delimiter.\n",
    "- `df['column'].str.strip()`: Remove leading and trailing spaces.\n"
   ],
   "id": "719eb6807353652c"
  },
  {
   "cell_type": "code",
   "id": "initial_id",
   "metadata": {
    "collapsed": true,
    "ExecuteTime": {
     "end_time": "2024-11-21T02:48:13.344448Z",
     "start_time": "2024-11-21T02:48:13.047489Z"
    }
   },
   "source": [
    "import pandas as pd\n",
    "import numpy as np"
   ],
   "outputs": [],
   "execution_count": 1
  },
  {
   "metadata": {
    "ExecuteTime": {
     "end_time": "2024-11-21T04:49:05.524536Z",
     "start_time": "2024-11-21T04:49:05.507898Z"
    }
   },
   "cell_type": "code",
   "source": [
    "data = { 'Fruit': ['Apple', 'Banana', 'Cherry', 'Date', 'Elderberry'], 'Quantity': [10, 15, 7, 3, 12], 'Price': [1.2, 0.8, 2.5, 3.0, 1.5] }\n",
    "df= pd.DataFrame(data)\n",
    "df"
   ],
   "id": "538fd00de3283846",
   "outputs": [
    {
     "data": {
      "text/plain": [
       "        Fruit  Quantity  Price\n",
       "0       Apple        10    1.2\n",
       "1      Banana        15    0.8\n",
       "2      Cherry         7    2.5\n",
       "3        Date         3    3.0\n",
       "4  Elderberry        12    1.5"
      ],
      "text/html": [
       "<div>\n",
       "<style scoped>\n",
       "    .dataframe tbody tr th:only-of-type {\n",
       "        vertical-align: middle;\n",
       "    }\n",
       "\n",
       "    .dataframe tbody tr th {\n",
       "        vertical-align: top;\n",
       "    }\n",
       "\n",
       "    .dataframe thead th {\n",
       "        text-align: right;\n",
       "    }\n",
       "</style>\n",
       "<table border=\"1\" class=\"dataframe\">\n",
       "  <thead>\n",
       "    <tr style=\"text-align: right;\">\n",
       "      <th></th>\n",
       "      <th>Fruit</th>\n",
       "      <th>Quantity</th>\n",
       "      <th>Price</th>\n",
       "    </tr>\n",
       "  </thead>\n",
       "  <tbody>\n",
       "    <tr>\n",
       "      <th>0</th>\n",
       "      <td>Apple</td>\n",
       "      <td>10</td>\n",
       "      <td>1.2</td>\n",
       "    </tr>\n",
       "    <tr>\n",
       "      <th>1</th>\n",
       "      <td>Banana</td>\n",
       "      <td>15</td>\n",
       "      <td>0.8</td>\n",
       "    </tr>\n",
       "    <tr>\n",
       "      <th>2</th>\n",
       "      <td>Cherry</td>\n",
       "      <td>7</td>\n",
       "      <td>2.5</td>\n",
       "    </tr>\n",
       "    <tr>\n",
       "      <th>3</th>\n",
       "      <td>Date</td>\n",
       "      <td>3</td>\n",
       "      <td>3.0</td>\n",
       "    </tr>\n",
       "    <tr>\n",
       "      <th>4</th>\n",
       "      <td>Elderberry</td>\n",
       "      <td>12</td>\n",
       "      <td>1.5</td>\n",
       "    </tr>\n",
       "  </tbody>\n",
       "</table>\n",
       "</div>"
      ]
     },
     "execution_count": 38,
     "metadata": {},
     "output_type": "execute_result"
    }
   ],
   "execution_count": 38
  },
  {
   "metadata": {},
   "cell_type": "markdown",
   "source": [
    "# pandas.Series.str.contains\n",
    "\n",
    "`Series.str.contains(pat, case=True, flags=0, na=None, regex=True)[source]`\n",
    "Test if pattern or regex is contained within a string of a Series or Index.\n",
    "\n",
    "Return boolean Series or Index based on whether a given pattern or regex is contained within a string of a Series or Index.\n",
    "\n",
    "## Parameters\n",
    "\n",
    "- **`pat`**: str\n",
    "  Character sequence or regular expression.\n",
    "\n",
    "- **`case`**: bool, default True\n",
    "  If True, case sensitive.\n",
    "\n",
    "- **`flags`**: int, default 0 (no flags)\n",
    "  Flags to pass through to the re module, e.g. re.IGNORECASE.\n",
    "\n",
    "- **`na`**: scalar, optional\n",
    "  Fill value for missing values. The default depends on dtype of the array. For object-dtype, numpy.nan is used. For StringDtype, pandas.NA is used.\n",
    "\n",
    "- **`regex`**: bool, default True\n",
    "  If True, assumes the `pat` is a regular expression. If False, treats the `pat` as a literal string.\n",
    "\n",
    "## Returns\n",
    "\n",
    "- **Series or Index of boolean values**\n",
    "  A Series or Index of boolean values indicating whether the given pattern is contained within the string of each element of the Series or Index.\n"
   ],
   "id": "aec3f088919fe2cf"
  },
  {
   "metadata": {
    "ExecuteTime": {
     "end_time": "2024-11-21T02:52:34.905294Z",
     "start_time": "2024-11-21T02:52:34.891577Z"
    }
   },
   "cell_type": "code",
   "source": "df['Fruit'].str.contains('a')",
   "id": "bb443f2f10b6c31b",
   "outputs": [
    {
     "data": {
      "text/plain": [
       "0    False\n",
       "1     True\n",
       "2    False\n",
       "3     True\n",
       "4    False\n",
       "Name: Fruit, dtype: bool"
      ]
     },
     "execution_count": 4,
     "metadata": {},
     "output_type": "execute_result"
    }
   ],
   "execution_count": 4
  },
  {
   "metadata": {
    "ExecuteTime": {
     "end_time": "2024-11-21T02:53:52.410857Z",
     "start_time": "2024-11-21T02:53:52.403816Z"
    }
   },
   "cell_type": "code",
   "source": "df['Fruit'].at[3]=np.nan",
   "id": "f70ccb227a01387f",
   "outputs": [],
   "execution_count": 6
  },
  {
   "metadata": {
    "ExecuteTime": {
     "end_time": "2024-11-21T02:54:29.539840Z",
     "start_time": "2024-11-21T02:54:29.524741Z"
    }
   },
   "cell_type": "code",
   "source": [
    "print(df['Fruit'].str.contains('a'))\n",
    "df['Fruit'].str.contains('a',na=False)"
   ],
   "id": "23ba483249e069ef",
   "outputs": [
    {
     "name": "stdout",
     "output_type": "stream",
     "text": [
      "0    False\n",
      "1     True\n",
      "2    False\n",
      "3      NaN\n",
      "4    False\n",
      "Name: Fruit, dtype: object\n"
     ]
    },
    {
     "data": {
      "text/plain": [
       "0    False\n",
       "1     True\n",
       "2    False\n",
       "3    False\n",
       "4    False\n",
       "Name: Fruit, dtype: bool"
      ]
     },
     "execution_count": 8,
     "metadata": {},
     "output_type": "execute_result"
    }
   ],
   "execution_count": 8
  },
  {
   "metadata": {
    "ExecuteTime": {
     "end_time": "2024-11-21T03:01:32.076157Z",
     "start_time": "2024-11-21T03:01:32.067505Z"
    }
   },
   "cell_type": "code",
   "source": [
    "print(df['Fruit'].str.contains('A',na=False))\n",
    "df['Fruit'].str.contains('A',case=False,na=False)"
   ],
   "id": "cd6bca65ddc95c31",
   "outputs": [
    {
     "name": "stdout",
     "output_type": "stream",
     "text": [
      "0     True\n",
      "1    False\n",
      "2    False\n",
      "3    False\n",
      "4    False\n",
      "Name: Fruit, dtype: bool\n"
     ]
    },
    {
     "data": {
      "text/plain": [
       "0     True\n",
       "1     True\n",
       "2    False\n",
       "3    False\n",
       "4    False\n",
       "Name: Fruit, dtype: bool"
      ]
     },
     "execution_count": 16,
     "metadata": {},
     "output_type": "execute_result"
    }
   ],
   "execution_count": 16
  },
  {
   "metadata": {
    "ExecuteTime": {
     "end_time": "2024-11-21T02:58:32.213934Z",
     "start_time": "2024-11-21T02:58:32.200639Z"
    }
   },
   "cell_type": "code",
   "source": "df",
   "id": "c10c5116ef3b2208",
   "outputs": [
    {
     "data": {
      "text/plain": [
       "        Fruit  Quantity  Price\n",
       "0       Apple        10    1.2\n",
       "1      Banana        15    0.8\n",
       "2      Cherry         7    2.5\n",
       "3         NaN         3    3.0\n",
       "4  Elderberry        12    1.5"
      ],
      "text/html": [
       "<div>\n",
       "<style scoped>\n",
       "    .dataframe tbody tr th:only-of-type {\n",
       "        vertical-align: middle;\n",
       "    }\n",
       "\n",
       "    .dataframe tbody tr th {\n",
       "        vertical-align: top;\n",
       "    }\n",
       "\n",
       "    .dataframe thead th {\n",
       "        text-align: right;\n",
       "    }\n",
       "</style>\n",
       "<table border=\"1\" class=\"dataframe\">\n",
       "  <thead>\n",
       "    <tr style=\"text-align: right;\">\n",
       "      <th></th>\n",
       "      <th>Fruit</th>\n",
       "      <th>Quantity</th>\n",
       "      <th>Price</th>\n",
       "    </tr>\n",
       "  </thead>\n",
       "  <tbody>\n",
       "    <tr>\n",
       "      <th>0</th>\n",
       "      <td>Apple</td>\n",
       "      <td>10</td>\n",
       "      <td>1.2</td>\n",
       "    </tr>\n",
       "    <tr>\n",
       "      <th>1</th>\n",
       "      <td>Banana</td>\n",
       "      <td>15</td>\n",
       "      <td>0.8</td>\n",
       "    </tr>\n",
       "    <tr>\n",
       "      <th>2</th>\n",
       "      <td>Cherry</td>\n",
       "      <td>7</td>\n",
       "      <td>2.5</td>\n",
       "    </tr>\n",
       "    <tr>\n",
       "      <th>3</th>\n",
       "      <td>NaN</td>\n",
       "      <td>3</td>\n",
       "      <td>3.0</td>\n",
       "    </tr>\n",
       "    <tr>\n",
       "      <th>4</th>\n",
       "      <td>Elderberry</td>\n",
       "      <td>12</td>\n",
       "      <td>1.5</td>\n",
       "    </tr>\n",
       "  </tbody>\n",
       "</table>\n",
       "</div>"
      ]
     },
     "execution_count": 14,
     "metadata": {},
     "output_type": "execute_result"
    }
   ],
   "execution_count": 14
  },
  {
   "metadata": {},
   "cell_type": "markdown",
   "source": [
    "# pandas.Series.str.startswith\n",
    "\n",
    "`Series.str.startswith(pat, na=None)[source]`\n",
    "Test if the start of each string element matches a pattern.\n",
    "\n",
    " # pandas.Series.str.endswith\n",
    "` Series.str.endswith(pat, na=None)`\n",
    "\n",
    "Test if the end of each string element matches a pattern.\n",
    "\n",
    "\n",
    "\n",
    "## Parameters\n",
    "\n",
    "- **`pat`**: str or tuple[str, …]\n",
    "  Character sequence or tuple of strings. Regular expressions are not accepted.\n",
    "\n",
    "- **`na`**: object, default NaN\n",
    "  Object shown if element tested is not a string. The default depends on dtype of the array. For object-dtype, numpy.nan is used. For StringDtype, pandas.NA is used.\n",
    "\n",
    "## Returns\n",
    "\n",
    "- **Series or Index of bool**\n",
    "  A Series of booleans indicating whether the given pattern matches the start of each string element.\n"
   ],
   "id": "c240d843b9fdc136"
  },
  {
   "metadata": {
    "ExecuteTime": {
     "end_time": "2024-11-21T04:30:56.322786Z",
     "start_time": "2024-11-21T04:30:56.316090Z"
    }
   },
   "cell_type": "code",
   "source": "df['Fruit'].str.startswith('A')",
   "id": "bc267f4ba1d9b5b6",
   "outputs": [
    {
     "data": {
      "text/plain": [
       "0     True\n",
       "1    False\n",
       "2    False\n",
       "3      NaN\n",
       "4    False\n",
       "Name: Fruit, dtype: object"
      ]
     },
     "execution_count": 23,
     "metadata": {},
     "output_type": "execute_result"
    }
   ],
   "execution_count": 23
  },
  {
   "metadata": {
    "ExecuteTime": {
     "end_time": "2024-11-21T04:31:15.997201Z",
     "start_time": "2024-11-21T04:31:15.991260Z"
    }
   },
   "cell_type": "code",
   "source": "df['Fruit'].str.endswith('a')",
   "id": "495f6f93a4f1eec4",
   "outputs": [
    {
     "data": {
      "text/plain": [
       "0    False\n",
       "1     True\n",
       "2    False\n",
       "3      NaN\n",
       "4    False\n",
       "Name: Fruit, dtype: object"
      ]
     },
     "execution_count": 24,
     "metadata": {},
     "output_type": "execute_result"
    }
   ],
   "execution_count": 24
  },
  {
   "metadata": {
    "ExecuteTime": {
     "end_time": "2024-11-21T04:51:11.021531Z",
     "start_time": "2024-11-21T04:51:11.012254Z"
    }
   },
   "cell_type": "code",
   "source": [
    "# without topic\n",
    "df['Fruit'].apply(lambda x: x if any(char in x for char in 'aAbvB') else None)\n"
   ],
   "id": "ab6802eaf4462f5",
   "outputs": [
    {
     "data": {
      "text/plain": [
       "0         Apple\n",
       "1        Banana\n",
       "2          None\n",
       "3          Date\n",
       "4    Elderberry\n",
       "Name: Fruit, dtype: object"
      ]
     },
     "execution_count": 42,
     "metadata": {},
     "output_type": "execute_result"
    }
   ],
   "execution_count": 42
  },
  {
   "metadata": {
    "ExecuteTime": {
     "end_time": "2024-11-21T05:20:11.790487Z",
     "start_time": "2024-11-21T05:20:11.788407Z"
    }
   },
   "cell_type": "code",
   "source": "",
   "id": "42cc00ef10b22a41",
   "outputs": [],
   "execution_count": null
  },
  {
   "metadata": {},
   "cell_type": "markdown",
   "source": [
    "# pandas.Series.str.lower\n",
    "\n",
    "`Series.str.lower()`\n",
    "Convert strings in the Series/Index to lowercase.\n",
    "\n",
    "# pandas.Series.str.upper\n",
    "` Series.str.upper() `\n",
    "Convert strings in the Series/Index to uppercase.\n",
    "\n",
    "\n",
    "\n",
    "## Returns\n",
    "\n",
    "- **Series or Index of object**\n"
   ],
   "id": "70d892c682f6044c"
  },
  {
   "metadata": {
    "ExecuteTime": {
     "end_time": "2024-11-21T05:20:40.852191Z",
     "start_time": "2024-11-21T05:20:40.843612Z"
    }
   },
   "cell_type": "code",
   "source": "df['Fruit'].str.upper()",
   "id": "6013d08d4365ad21",
   "outputs": [
    {
     "data": {
      "text/plain": [
       "0         APPLE\n",
       "1        BANANA\n",
       "2        CHERRY\n",
       "3          DATE\n",
       "4    ELDERBERRY\n",
       "Name: Fruit, dtype: object"
      ]
     },
     "execution_count": 43,
     "metadata": {},
     "output_type": "execute_result"
    }
   ],
   "execution_count": 43
  },
  {
   "metadata": {
    "ExecuteTime": {
     "end_time": "2024-11-21T05:20:50.235069Z",
     "start_time": "2024-11-21T05:20:50.220759Z"
    }
   },
   "cell_type": "code",
   "source": "df['Fruit'].str.lower()",
   "id": "bb9bb1aa8d023e7",
   "outputs": [
    {
     "data": {
      "text/plain": [
       "0         apple\n",
       "1        banana\n",
       "2        cherry\n",
       "3          date\n",
       "4    elderberry\n",
       "Name: Fruit, dtype: object"
      ]
     },
     "execution_count": 44,
     "metadata": {},
     "output_type": "execute_result"
    }
   ],
   "execution_count": 44
  },
  {
   "metadata": {},
   "cell_type": "markdown",
   "source": [
    "# pandas.Series.str.replace\n",
    "\n",
    "`Series.str.replace(pat, repl, n=-1, case=None, flags=0, regex=False)[source]`\n",
    "Replace each occurrence of pattern/regex in the Series/Index.\n",
    "\n",
    "Equivalent to `str.replace()` or `re.sub()`, depending on the `regex` value.\n",
    "\n",
    "## Parameters\n",
    "\n",
    "- **`pat`**: str or compiled regex\n",
    "  String can be a character sequence or regular expression.\n",
    "\n",
    "- **`repl`**: str or callable\n",
    "  Replacement string or a callable. The callable is passed the regex match object and must return a replacement string to be used. See `re.sub()`.\n",
    "\n",
    "- **`n`**: int, default -1 (all)\n",
    "  Number of replacements to make from start.\n",
    "\n",
    "- **`case`**: bool, default None\n",
    "  Determines if replace is case sensitive:\n",
    "  - If True, case sensitive (the default if `pat` is a string).\n",
    "  - Set to False for case insensitive.\n",
    "  - Cannot be set if `pat` is a compiled regex.\n",
    "\n",
    "- **`flags`**: int, default 0 (no flags)\n",
    "  Regex module flags, e.g. `re.IGNORECASE`. Cannot be set if `pat` is a compiled regex.\n",
    "\n",
    "- **`regex`**: bool, default False\n",
    "  Determines if the passed-in pattern is a regular expression:\n",
    "  - If True, assumes the passed-in pattern is a regular expression.\n",
    "  - If False, treats the pattern as a literal string.\n",
    "  - Cannot be set to False if `pat` is a compiled regex or `repl` is a callable.\n",
    "\n",
    "## Returns\n",
    "\n",
    "- **Series or Index of object**\n",
    "  A copy of the object with all matching occurrences of `pat` replaced by `repl`.\n",
    "\n",
    "## Raises\n",
    "\n",
    "- **ValueError**\n",
    "  - if `regex` is False and `repl` is a callable or `pat` is a compiled regex\n",
    "  - if `pat` is a compiled regex and `case` or `flags` is set\n",
    "\n"
   ],
   "id": "2d457fba6b10a665"
  },
  {
   "metadata": {
    "ExecuteTime": {
     "end_time": "2024-11-21T05:30:12.870505Z",
     "start_time": "2024-11-21T05:30:12.861881Z"
    }
   },
   "cell_type": "code",
   "source": "df['Fruit'].str.replace('a','A',n=2)",
   "id": "40c39608cf72ed",
   "outputs": [
    {
     "data": {
      "text/plain": [
       "0         Apple\n",
       "1        BAnAna\n",
       "2        Cherry\n",
       "3          DAte\n",
       "4    Elderberry\n",
       "Name: Fruit, dtype: object"
      ]
     },
     "execution_count": 49,
     "metadata": {},
     "output_type": "execute_result"
    }
   ],
   "execution_count": 49
  },
  {
   "metadata": {},
   "cell_type": "markdown",
   "source": [
    "# pandas.Series.str.split\n",
    "\n",
    "`Series.str.split(pat=None, *, n=-1, expand=False, regex=None)[source]`\n",
    "Split strings around given separator/delimiter.\n",
    "\n",
    "Splits the string in the Series/Index from the beginning, at the specified delimiter string.\n",
    "\n",
    "## Parameters\n",
    "\n",
    "- **`pat`**: str or compiled regex, optional\n",
    "  String or regular expression to split on. If not specified, split on whitespace.\n",
    "\n",
    "- **`n`**: int, default -1 (all)\n",
    "  Limit number of splits in output. None, 0 and -1 will be interpreted as return all splits.\n",
    "\n",
    "- **`expand`**: bool, default False\n",
    "  Expand the split strings into separate columns.\n",
    "  - If True, return DataFrame/MultiIndex expanding dimensionality.\n",
    "  - If False, return Series/Index, containing lists of strings.\n",
    "\n",
    "- **`regex`**: bool, default None\n",
    "  Determines if the passed-in pattern is a regular expression:\n",
    "  - If True, assumes the passed-in pattern is a regular expression.\n",
    "  - If False, treats the pattern as a literal string.\n",
    "  - If None and `pat` length is 1, treats `pat` as a literal string.\n",
    "  - If None and `pat` length is not 1, treats `pat` as a regular expression.\n",
    "  - Cannot be set to False if `pat` is a compiled regex.\n",
    "  - Added in version 1.4.0.\n",
    "\n",
    "## Returns\n",
    "\n",
    "- **Series, Index, DataFrame or MultiIndex**\n",
    "  Type matches caller unless `expand=True` (see Notes).\n"
   ],
   "id": "813f2f131e078c0"
  },
  {
   "metadata": {
    "ExecuteTime": {
     "end_time": "2024-11-21T05:35:26.973566Z",
     "start_time": "2024-11-21T05:35:26.965381Z"
    }
   },
   "cell_type": "code",
   "source": "df['Fruit'].str.split('a',n=1,expand=True)",
   "id": "438731550dd046ad",
   "outputs": [
    {
     "data": {
      "text/plain": [
       "            0     1\n",
       "0       Apple  None\n",
       "1           B  nana\n",
       "2      Cherry  None\n",
       "3           D    te\n",
       "4  Elderberry  None"
      ],
      "text/html": [
       "<div>\n",
       "<style scoped>\n",
       "    .dataframe tbody tr th:only-of-type {\n",
       "        vertical-align: middle;\n",
       "    }\n",
       "\n",
       "    .dataframe tbody tr th {\n",
       "        vertical-align: top;\n",
       "    }\n",
       "\n",
       "    .dataframe thead th {\n",
       "        text-align: right;\n",
       "    }\n",
       "</style>\n",
       "<table border=\"1\" class=\"dataframe\">\n",
       "  <thead>\n",
       "    <tr style=\"text-align: right;\">\n",
       "      <th></th>\n",
       "      <th>0</th>\n",
       "      <th>1</th>\n",
       "    </tr>\n",
       "  </thead>\n",
       "  <tbody>\n",
       "    <tr>\n",
       "      <th>0</th>\n",
       "      <td>Apple</td>\n",
       "      <td>None</td>\n",
       "    </tr>\n",
       "    <tr>\n",
       "      <th>1</th>\n",
       "      <td>B</td>\n",
       "      <td>nana</td>\n",
       "    </tr>\n",
       "    <tr>\n",
       "      <th>2</th>\n",
       "      <td>Cherry</td>\n",
       "      <td>None</td>\n",
       "    </tr>\n",
       "    <tr>\n",
       "      <th>3</th>\n",
       "      <td>D</td>\n",
       "      <td>te</td>\n",
       "    </tr>\n",
       "    <tr>\n",
       "      <th>4</th>\n",
       "      <td>Elderberry</td>\n",
       "      <td>None</td>\n",
       "    </tr>\n",
       "  </tbody>\n",
       "</table>\n",
       "</div>"
      ]
     },
     "execution_count": 52,
     "metadata": {},
     "output_type": "execute_result"
    }
   ],
   "execution_count": 52
  },
  {
   "metadata": {},
   "cell_type": "code",
   "outputs": [],
   "execution_count": null,
   "source": "",
   "id": "fe8f32a413943da2"
  },
  {
   "metadata": {},
   "cell_type": "markdown",
   "source": [
    "# pandas.Series.str.strip\n",
    "\n",
    "`Series.str.strip(to_strip=None)[source]`\n",
    "Remove leading and trailing characters.\n",
    "\n",
    "Strip whitespaces (including newlines) or a set of specified characters from each string in the Series/Index from left and right sides. Replaces any non-strings in Series with NaNs. Equivalent to `str.strip()`.\n",
    "\n",
    "## Parameters\n",
    "\n",
    "- **`to_strip`**: str or None, default None\n",
    "  Specifying the set of characters to be removed. All combinations of this set of characters will be stripped. If None then whitespaces are removed.\n",
    "\n",
    "## Returns\n",
    "\n",
    "- **Series or Index of object**\n",
    "\n",
    "## See also\n",
    "\n",
    "- **Series.str.strip**\n",
    "  Remove leading and trailing characters in Series/Index.\n",
    "\n",
    "- **Series.str.lstrip**\n",
    "  Remove leading characters in Series/Index.\n",
    "\n",
    "- **Series.str.rstrip**\n",
    "  Remove trailing characters in Series/Index.\n"
   ],
   "id": "1ea13e3da996164b"
  },
  {
   "metadata": {
    "ExecuteTime": {
     "end_time": "2024-11-21T05:40:26.798283Z",
     "start_time": "2024-11-21T05:40:26.789755Z"
    }
   },
   "cell_type": "code",
   "source": "df['Fruit'].str.strip('aA')",
   "id": "1fb4743655b1c816",
   "outputs": [
    {
     "data": {
      "text/plain": [
       "0          pple\n",
       "1         Banan\n",
       "2        Cherry\n",
       "3          Date\n",
       "4    Elderberry\n",
       "Name: Fruit, dtype: object"
      ]
     },
     "execution_count": 56,
     "metadata": {},
     "output_type": "execute_result"
    }
   ],
   "execution_count": 56
  },
  {
   "metadata": {},
   "cell_type": "code",
   "outputs": [],
   "execution_count": null,
   "source": "",
   "id": "25849c5a2776252"
  }
 ],
 "metadata": {
  "kernelspec": {
   "display_name": "Python 3",
   "language": "python",
   "name": "python3"
  },
  "language_info": {
   "codemirror_mode": {
    "name": "ipython",
    "version": 2
   },
   "file_extension": ".py",
   "mimetype": "text/x-python",
   "name": "python",
   "nbconvert_exporter": "python",
   "pygments_lexer": "ipython2",
   "version": "2.7.6"
  }
 },
 "nbformat": 4,
 "nbformat_minor": 5
}
