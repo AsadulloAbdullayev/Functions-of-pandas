{
 "cells": [
  {
   "metadata": {},
   "cell_type": "markdown",
   "source": [
    "# MultiIndex Operations. Pivot and Reshape Functions\n",
    "- `df.unstack()`: Unstack a level of index.\n",
    "- `df.stack()`: Stack a level of columns.\n",
    "- `df.swaplevel()`: Swap levels of a MultiIndex.\n",
    "- `df.droplevel()`: Drop a level from a MultiIndex.\n",
    "- `df.reorder_levels()`: Reorder levels of a MultiIndex.\n",
    "- `df.pivot()`: Reshape DataFrame.\n",
    "- `df.pivot_table()`: Create pivot table with aggregation.\n",
    "- `df.xs()`: Select a cross-section from a DataFrame."
   ],
   "id": "c419c5009e05a170"
  },
  {
   "cell_type": "code",
   "execution_count": null,
   "id": "initial_id",
   "metadata": {
    "collapsed": true
   },
   "outputs": [],
   "source": [
    ""
   ]
  }
 ],
 "metadata": {
  "kernelspec": {
   "display_name": "Python 3",
   "language": "python",
   "name": "python3"
  },
  "language_info": {
   "codemirror_mode": {
    "name": "ipython",
    "version": 2
   },
   "file_extension": ".py",
   "mimetype": "text/x-python",
   "name": "python",
   "nbconvert_exporter": "python",
   "pygments_lexer": "ipython2",
   "version": "2.7.6"
  }
 },
 "nbformat": 4,
 "nbformat_minor": 5
}
